{
 "cells": [
  {
   "cell_type": "code",
   "execution_count": 1,
   "id": "7aaf2bfb",
   "metadata": {},
   "outputs": [],
   "source": [
    "# importing the NLTK library so we can do text analysis\n",
    "\n",
    "import nltk"
   ]
  },
  {
   "cell_type": "code",
   "execution_count": 2,
   "id": "f3a881f6",
   "metadata": {},
   "outputs": [
    {
     "name": "stdout",
     "output_type": "stream",
     "text": [
      "*** Introductory Examples for the NLTK Book ***\n",
      "Loading text1, ..., text9 and sent1, ..., sent9\n",
      "Type the name of the text or sentence to view it.\n",
      "Type: 'texts()' or 'sents()' to list the materials.\n",
      "text1: Moby Dick by Herman Melville 1851\n",
      "text2: Sense and Sensibility by Jane Austen 1811\n",
      "text3: The Book of Genesis\n",
      "text4: Inaugural Address Corpus\n",
      "text5: Chat Corpus\n",
      "text6: Monty Python and the Holy Grail\n",
      "text7: Wall Street Journal\n",
      "text8: Personals Corpus\n",
      "text9: The Man Who Was Thursday by G . K . Chesterton 1908\n"
     ]
    }
   ],
   "source": [
    "# importing a dataset of \"books\" to get started with text analysis\n",
    "\n",
    "from nltk.book import *"
   ]
  },
  {
   "cell_type": "code",
   "execution_count": 17,
   "id": "3f66f993",
   "metadata": {},
   "outputs": [
    {
     "name": "stdout",
     "output_type": "stream",
     "text": [
      "Displaying 25 of 39 matches:\n",
      " i have to go to the docs tomorrow ya man I am too .. Connected to ... Slip awa\n",
      "U121 . JOIN rethinks ??? lmaoooo Aw , man . whats up U155 i was only kidding . \n",
      "er yes PART that red color bit my eye man ... . ACTION video tapes . hey U20 Im\n",
      "that one lol PART I am not a bisexual man , but I am seeking some ( equal oppor\n",
      "y hater LOL Hi , U3 , do u ever sleep man am I out in left field tonight ... so\n",
      "work Hi U30 I see PART hi U19 bored ? man the day is slipping away do something\n",
      "ature ouch U34 lol there a story of a man name brady who had 12 kids out of wed\n",
      "t http://www.shadowbots.com OOH DAamn man i 'm , such a sucka :) whats not to l\n",
      "rts ? LoL moped U28 ?.. ohh ur a real man i had a moped once yup hehe U16 :) th\n",
      " PART from azerbaijan dang thats cold man i syck who wanna chatr (((((((( neone\n",
      "ere attracted to the same sex JOIN oh man , they just xxxed it muh nose is cold\n",
      "!! hi U33 hugs JOIN U33 hiiii U26 U26 man , where has the U26 man gone ? hi U35\n",
      "hiiii U26 U26 man , where has the U26 man gone ? hi U35 hi U16 , hi U14 howdy U\n",
      "im , lol hey U19 lol i think of macho man i think of the village people lol (((\n",
      "to ((( U21 )))) but can you tell if a man is good looking or not U16 ? . ACTION\n",
      "aint no such a thang as a good lookin man lol hi U27 JOIN lmao well .... cepn f\n",
      "t the end he knew was romantic with a man say no lol U34 lol go Cardinals !! ya\n",
      "nks U50 you need naked ? hiya U53 :-) man U37 , one hour ago I said Hello to yo\n",
      " specalily love the music JOIN ...... man my spelling sucks today PART mine too\n",
      " 're so hot U66 . U119 . JOIN JOIN oh man wish i was you . then i wouldnt have \n",
      "e ur gay . PART PART . ACTION = U58 . Man shouldnt have walked away from the co\n",
      " -...)...- S.M.R. <3 . JOIN JOIN PART Man im bored . My short attention span ha\n",
      " minutes / seconds . it 's my Music . Man i hate pop up adds . they keep blocki\n",
      "hower any ladies want chat / single / man / 35 / New York can pm me JOIN brb JO\n",
      " it though the girls here are on heat man im a virgin I am laughing so hard elb\n"
     ]
    }
   ],
   "source": [
    "# using the method \"concordance\" to get a view of the contexts surrounding a given word\n",
    "\n",
    "text5.concordance(\"man\")"
   ]
  },
  {
   "cell_type": "code",
   "execution_count": 16,
   "id": "0cfbffcb",
   "metadata": {},
   "outputs": [
    {
     "name": "stdout",
     "output_type": "stream",
     "text": [
      "Displaying 6 of 6 matches:\n",
      "etshybbw ?? lol U47 stand yer ground woman !!! i just saw shaun of the dead .. \n",
      "was horrible lol U28 .. control your woman ! JOIN u dont want to live at all ju\n",
      "n is ready U132 : Are you a man or a woman ? that depends if neysa 's cooking i\n",
      "!!!! aloha morning ciao hello eskimo woman whatever else it is to you people lo\n",
      "get a pro U7 , why bother and a real woman never asks been there plenaty of tim\n",
      "Z THAT IT JUST SHOWS YOUR NOT MAN OR WOMAN ENOUGH . Hey any guy want to talk ab\n"
     ]
    }
   ],
   "source": [
    "# checking the concordance for 'woman'\n",
    "\n",
    "text5.concordance(\"woman\")"
   ]
  },
  {
   "cell_type": "code",
   "execution_count": 18,
   "id": "c178e7a6",
   "metadata": {},
   "outputs": [
    {
     "name": "stdout",
     "output_type": "stream",
     "text": [
      "girl gay part hey ah nick do ok yes male no how oh k jerk was sex yea\n",
      "leave life\n"
     ]
    }
   ],
   "source": [
    "# using the 'similar' method to check for words that have common contexts\n",
    "\n",
    "text5.similar(\"man\")"
   ]
  },
  {
   "cell_type": "code",
   "execution_count": 19,
   "id": "1e6f0af5",
   "metadata": {},
   "outputs": [
    {
     "name": "stdout",
     "output_type": "stream",
     "text": [
      "ugly teacher tongue mistake virgin\n"
     ]
    }
   ],
   "source": [
    "text5.similar(\"woman\")"
   ]
  },
  {
   "cell_type": "code",
   "execution_count": 21,
   "id": "8750d8d6",
   "metadata": {},
   "outputs": [
    {
     "name": "stdout",
     "output_type": "stream",
     "text": [
      "Displaying 4 of 4 matches:\n",
      " what PART i hate you U121 fuck your ugly JOIN if i had a daughter she would r\n",
      "profile ) Lmfao dr phil said so I am ugly ? PART wouldnt let her date Is n't i\n",
      "e Hott or something mean I 'm really ugly JOIN : U15 ! U15 @ U15 MODE #14-19te\n",
      "s for some trout . PART yeah someone ugly enough for your fluids hahaha ask U9\n"
     ]
    }
   ],
   "source": [
    "# the word 'ugly' has a common context with the word 'woman'\n",
    "\n",
    "text5.concordance('ugly')"
   ]
  },
  {
   "cell_type": "code",
   "execution_count": 26,
   "id": "091cabb7",
   "metadata": {},
   "outputs": [
    {
     "data": {
      "image/png": "[encoded data removed]",
      "text/plain": [
       "<Figure size 432x288 with 1 Axes>"
      ]
     },
     "metadata": {
      "needs_background": "light"
     },
     "output_type": "display_data"
    }
   ],
   "source": [
    "# using the 'dispersion_plot' method to see where words appear across the text\n",
    "\n",
    "text3.dispersion_plot(['good', 'evil', 'serpent', 'Adam', 'Eve'])"
   ]
  },
  {
   "cell_type": "code",
   "execution_count": 27,
   "id": "c399f80b",
   "metadata": {},
   "outputs": [
    {
     "name": "stdout",
     "output_type": "stream",
     "text": [
      "Displaying 25 of 27 matches:\n",
      " thump ] [ squeak ] [ boom ] GIRLS : Hello ! ZOOT : Welcome gentle Sir Knight .\n",
      "t ! [ clank ] I have seen -- GIRLS : Hello . GALAHAD : Oh . GIRLS : Hello . Hel\n",
      "RLS : Hello . GALAHAD : Oh . GIRLS : Hello . Hello . Hello . Hello . Hello . He\n",
      "llo . GALAHAD : Oh . GIRLS : Hello . Hello . Hello . Hello . Hello . Hello . He\n",
      "LAHAD : Oh . GIRLS : Hello . Hello . Hello . Hello . Hello . Hello . Hello . He\n",
      "Oh . GIRLS : Hello . Hello . Hello . Hello . Hello . Hello . Hello . Hello . He\n",
      "LS : Hello . Hello . Hello . Hello . Hello . Hello . Hello . Hello . Hello . He\n",
      "lo . Hello . Hello . Hello . Hello . Hello . Hello . Hello . Hello . Hello . He\n",
      "lo . Hello . Hello . Hello . Hello . Hello . Hello . Hello . Hello . Hello . He\n",
      "lo . Hello . Hello . Hello . Hello . Hello . Hello . Hello . Hello . Hello . He\n",
      "lo . Hello . Hello . Hello . Hello . Hello . Hello . Hello . Hello . Hello . He\n",
      "lo . Hello . Hello . Hello . Hello . Hello . Hello . Hello . Hello . Hello . He\n",
      "lo . Hello . Hello . Hello . Hello . Hello . Hello . Hello . Hello . Hello . He\n",
      "lo . Hello . Hello . Hello . Hello . Hello . Hello . Hello . Hello . Hello . He\n",
      "lo . Hello . Hello . Hello . Hello . Hello . Hello . Hello . Hello . Hello . He\n",
      "lo . Hello . Hello . Hello . Hello . Hello . Hello . Hello . Hello . Hello . He\n",
      "lo . Hello . Hello . Hello . Hello . Hello . Hello . Hello . Hello . Hello . He\n",
      "lo . Hello . Hello . Hello . Hello . Hello . Hello . Hello . Hello . Hello . He\n",
      "lo . Hello . Hello . Hello . Hello . Hello . Hello . Hello . Hello . Hello . He\n",
      "lo . Hello . Hello . Hello . Hello . Hello . Hello . Hello . Hello . Hello . He\n",
      "lo . Hello . Hello . Hello . Hello . Hello . Hello . Hello . Hello . Hello . GA\n",
      "lo . Hello . Hello . Hello . Hello . Hello . Hello . Hello . Hello . GALAHAD : \n",
      "lo . Hello . Hello . Hello . Hello . Hello . Hello . Hello . GALAHAD : Zoot ! D\n",
      "lo . Hello . Hello . Hello . Hello . Hello . Hello . GALAHAD : Zoot ! DINGO : N\n",
      "lo . Hello . Hello . Hello . Hello . Hello . GALAHAD : Zoot ! DINGO : No , I am\n"
     ]
    }
   ],
   "source": [
    "text6.concordance('hello')"
   ]
  },
  {
   "cell_type": "code",
   "execution_count": 28,
   "id": "4bdaf675",
   "metadata": {},
   "outputs": [
    {
     "name": "stdout",
     "output_type": "stream",
     "text": [
      "Displaying 25 of 1226 matches:\n",
      "s , and to teach them by what name a whale - fish is to be called in our tongue\n",
      "t which is not true .\" -- HACKLUYT \" WHALE . ... Sw . and Dan . HVAL . This ani\n",
      "ulted .\" -- WEBSTER ' S DICTIONARY \" WHALE . ... It is more immediately from th\n",
      "ISH . WAL , DUTCH . HWAL , SWEDISH . WHALE , ICELANDIC . WHALE , ENGLISH . BALE\n",
      "HWAL , SWEDISH . WHALE , ICELANDIC . WHALE , ENGLISH . BALEINE , FRENCH . BALLE\n",
      "least , take the higgledy - piggledy whale statements , however authentic , in \n",
      " dreadful gulf of this monster ' s ( whale ' s ) mouth , are immediately lost a\n",
      " patient Job .\" -- RABELAIS . \" This whale ' s liver was two cartloads .\" -- ST\n",
      " Touching that monstrous bulk of the whale or ork we have received nothing cert\n",
      " of oil will be extracted out of one whale .\" -- IBID . \" HISTORY OF LIFE AND D\n",
      "ise .\" -- KING HENRY . \" Very like a whale .\" -- HAMLET . \" Which to secure , n\n",
      "restless paine , Like as the wounded whale to shore flies thro ' the maine .\" -\n",
      ". OF SPERMA CETI AND THE SPERMA CETI WHALE . VIDE HIS V . E . \" Like Spencer ' \n",
      "t had been a sprat in the mouth of a whale .\" -- PILGRIM ' S PROGRESS . \" That \n",
      "EN ' S ANNUS MIRABILIS . \" While the whale is floating at the stern of the ship\n",
      "e ship called The Jonas - in - the - Whale . ... Some say the whale can ' t ope\n",
      " in - the - Whale . ... Some say the whale can ' t open his mouth , but that is\n",
      " masts to see whether they can see a whale , for the first discoverer has a duc\n",
      " for his pains . ... I was told of a whale taken near Shetland , that had above\n",
      "oneers told me that he caught once a whale in Spitzbergen that was white all ov\n",
      "2 , one eighty feet in length of the whale - bone kind came in , which ( as I w\n",
      "n master and kill this Sperma - ceti whale , for I could never hear of any of t\n",
      " . 1729 . \"... and the breath of the whale is frequendy attended with such an i\n",
      "ed with hoops and armed with ribs of whale .\" -- RAPE OF THE LOCK . \" If we com\n",
      "contemptible in the comparison . The whale is doubtless the largest animal in c\n"
     ]
    }
   ],
   "source": [
    "text1.concordance('whale')"
   ]
  },
  {
   "cell_type": "code",
   "execution_count": 29,
   "id": "1d50bbbe",
   "metadata": {},
   "outputs": [
    {
     "name": "stdout",
     "output_type": "stream",
     "text": [
      "ship boat sea time captain world man deck pequod other whales air\n",
      "water head crew line thing side way body\n"
     ]
    }
   ],
   "source": [
    "text1.similar('whale')"
   ]
  },
  {
   "cell_type": "code",
   "execution_count": null,
   "id": "7fffd70c",
   "metadata": {},
   "outputs": [],
   "source": []
  }
 ],
 "metadata": {
  "kernelspec": {
   "display_name": "Python 3",
   "language": "python",
   "name": "python3"
  },
  "language_info": {
   "codemirror_mode": {
    "name": "ipython",
    "version": 3
   },
   "file_extension": ".py",
   "mimetype": "text/x-python",
   "name": "python",
   "nbconvert_exporter": "python",
   "pygments_lexer": "ipython3",
   "version": "3.7.7"
  }
 },
 "nbformat": 4,
 "nbformat_minor": 5
}
