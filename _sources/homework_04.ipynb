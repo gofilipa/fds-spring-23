{
 "cells": [
  {
   "attachments": {},
   "cell_type": "markdown",
   "metadata": {},
   "source": [
    "# homework 4: text analysis"
   ]
  },
  {
   "attachments": {},
   "cell_type": "markdown",
   "metadata": {},
   "source": [
    "Please download this page by pressing the download button on upper right corner. You should save the page as an `.ipynb` file. \n",
    "\n",
    "Afer downloading the document, open it on your own computer, either on Google Colab or Jupyter-Notebooks. If using Google Colab, you may need to first upload the document to your Google Drive before you can work on it.\n",
    "\n",
    "When you are finished, download the document as an `.ipynb` file and submit it through Blackboard. "
   ]
  },
  {
   "attachments": {},
   "cell_type": "markdown",
   "metadata": {},
   "source": [
    "## instructions\n",
    "For this assignment, you will choose a focus: either **genders** or **monsters**. \n",
    "\n",
    "If you choose **genders**, do the following:\n",
    "- Choose one text by a man and one text by a woman.\n",
    "- Load and clean the text using the functions defined in the `nltk: text analysis` class notes.\n",
    "- Do some text analysis using at least four NLTK methods like:\n",
    "    - `similar()`, `concordance()`, `distribution_plot([])`, `collocations()`, and `common_contexts([])`\n",
    "    - check word counts with `text.vocab().most_common(20)` \n",
    "- Write a paragraph (5 - 7 sentences) about your results, and answer the following questions:\n",
    "   - What did you discover about the way gender is portrayed across the two texts? \n",
    "   - Based on your exploration so far, what kind of further questions could you ask about the topic or data?\n",
    "\n",
    "If you choose **monsters**, do the following:\n",
    "- Select two texts, *Dracula* and *Frankenstein*.\n",
    "- Load and clean the text using the functions defined in the `nltk: text analysis` class notes.\n",
    "- Do some text analysis using at least four NLTK methods like:\n",
    "    - `similar()`, `concordance()`, `distribution_plot([])`, `collocations()`, and `common_contexts([])`\n",
    "    - check word counts with `text.vocab().most_common(20)` \n",
    "- Write a paragraph (5 - 7 sentences) about your results, and answer the following questions:\n",
    "   - What did you discover about the way monsters are portrayed across the two texts? \n",
    "   - Based on your exploration so far, what kind of further questions could you ask about the topic or data?"
   ]
  },
  {
   "cell_type": "code",
   "execution_count": null,
   "metadata": {
    "vscode": {
     "languageId": "plaintext"
    }
   },
   "outputs": [],
   "source": [
    "# first, below this cell, select and clean your texts"
   ]
  },
  {
   "cell_type": "code",
   "execution_count": null,
   "metadata": {
    "vscode": {
     "languageId": "plaintext"
    }
   },
   "outputs": [],
   "source": [
    "# second, below this cell, do some text analysis with NLTK across both texts"
   ]
  },
  {
   "cell_type": "code",
   "execution_count": null,
   "metadata": {
    "vscode": {
     "languageId": "plaintext"
    }
   },
   "outputs": [],
   "source": [
    "# third, below this cell, write a paragraph about your results"
   ]
  }
 ],
 "metadata": {
  "language_info": {
   "name": "python"
  },
  "orig_nbformat": 4
 },
 "nbformat": 4,
 "nbformat_minor": 2
}
