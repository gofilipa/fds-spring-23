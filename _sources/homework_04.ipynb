{
 "cells": [
  {
   "cell_type": "markdown",
   "metadata": {},
   "source": [
    "# homework 4: text analysis"
   ]
  },
  {
   "cell_type": "markdown",
   "metadata": {},
   "source": [
    "Please download this page from the course website by pressing the download button on upper right corner. You should save the page as an `.ipynb` file. \n",
    "\n",
    "Afer downloading the document, open it on your own computer, either on Google Colab or Jupyter-Notebooks. If using Google Colab, you may need to first upload the document to your Google Drive before you can work on it.\n",
    "\n",
    "When you are finished, download the document as an `.ipynb` file and submit it through Blackboard. "
   ]
  },
  {
   "cell_type": "markdown",
   "metadata": {},
   "source": [
    "## instructions\n",
    "For this assignment, you will choose a focus: either **genders** or **monsters**. \n",
    "\n",
    "If you choose **genders**, do the following:\n",
    "- Choose one text by a man and one text by a woman.\n",
    "- Load and clean the text using the functions defined in the `nltk: text analysis` class notes.\n",
    "- Do some text analysis using at least four NLTK methods like:\n",
    "    - `similar()`, `concordance()`, `distribution_plot([])`, `collocations()`, and `common_contexts([])`\n",
    "    - check word counts with `text.vocab().most_common(20)` \n",
    "- Write a paragraph (5 - 7 sentences) about your results, and answer the following questions:\n",
    "   - What did you discover about the way gender is portrayed across the two texts? How is gender being characterized across texts?\n",
    "   - Explain some conclusions you might draw about gender or the text from specific words that appear in your analysis.\n",
    "   - Based on your exploration so far, what kind of further questions could you ask about the topic or data?\n",
    "\n",
    "If you choose **monsters**, do the following:\n",
    "- Select two texts, *Dracula* and *Frankenstein*.\n",
    "- Load and clean the text using the functions defined in the `nltk: text analysis` class notes.\n",
    "- Do some text analysis using at least four NLTK methods like:\n",
    "    - `similar()`, `concordance()`, `distribution_plot([])`, `collocations()`, and `common_contexts([])`\n",
    "    - check word counts with `text.vocab().most_common(20)` \n",
    "- Write a paragraph (5 - 7 sentences) about your results, and answer the following questions:\n",
    "   - What did you discover about the way monsters are portrayed across the two texts? How are they monsters being characterized across texts?\n",
    "   - Explain some conclusions you might draw about monsters from specific words that appear in your analysis.\n",
    "   - Based on your exploration so far, what kind of further questions could you ask about the topic or the texts?"
   ]
  },
  {
   "cell_type": "code",
   "execution_count": null,
   "metadata": {
    "vscode": {
     "languageId": "plaintext"
    }
   },
   "outputs": [],
   "source": [
    "# first, below this cell, select and clean your texts\n",
    "# use the clean() function and the variables set to URL from the class notes"
   ]
  },
  {
   "cell_type": "code",
   "execution_count": null,
   "metadata": {
    "vscode": {
     "languageId": "plaintext"
    }
   },
   "outputs": [],
   "source": [
    "# second, below this cell, do some text analysis with NLTK across both texts\n",
    "# use the nltk methods specified above\n",
    "# remember to first create an \"nltk object\" from your text"
   ]
  },
  {
   "cell_type": "code",
   "execution_count": null,
   "metadata": {
    "vscode": {
     "languageId": "plaintext"
    }
   },
   "outputs": [],
   "source": [
    "# third, below this cell, write a paragraph about your results\n",
    "# make sure to answer all questions from the prompt above"
   ]
  }
 ],
 "metadata": {
  "kernelspec": {
   "display_name": "Python 3",
   "language": "python",
   "name": "python3"
  },
  "language_info": {
   "codemirror_mode": {
    "name": "ipython",
    "version": 3
   },
   "file_extension": ".py",
   "mimetype": "text/x-python",
   "name": "python",
   "nbconvert_exporter": "python",
   "pygments_lexer": "ipython3",
   "version": "3.7.7"
  }
 },
 "nbformat": 4,
 "nbformat_minor": 2
}
