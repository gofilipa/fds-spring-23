{
 "cells": [
  {
   "attachments": {},
   "cell_type": "markdown",
   "id": "51bf31ed",
   "metadata": {},
   "source": [
    "# NLTK: gender analysis"
   ]
  },
  {
   "cell_type": "code",
   "execution_count": null,
   "id": "2bee5e0a",
   "metadata": {},
   "outputs": [],
   "source": [
    "# On Jupyter - run this cell\n",
    "import nltk\n",
    "from nltk.corpus import stopwords\n",
    "from nltk.stem import WordNetLemmatizer\n",
    "from urllib.request import urlopen "
   ]
  },
  {
   "cell_type": "code",
   "execution_count": null,
   "id": "a13390f0",
   "metadata": {},
   "outputs": [],
   "source": [
    "# on Colab -- run this cell\n",
    "import nltk\n",
    "from nltk.corpus import stopwords\n",
    "nltk.download('stopwords')\n",
    "nltk.download('wordnet')\n",
    "nltk.download('omw-1.4')\n",
    "nltk.download('punkt')\n",
    "from urllib.request import urlopen "
   ]
  },
  {
   "cell_type": "markdown",
   "id": "df867507",
   "metadata": {},
   "source": [
    "## selecting and cleaning our text"
   ]
  },
  {
   "cell_type": "code",
   "execution_count": null,
   "id": "44fe1d8d",
   "metadata": {},
   "outputs": [],
   "source": [
    "def clean(url):\n",
    "    stops = stopwords.words('english')\n",
    "    open_url = urlopen(url)\n",
    "    read_text = open_url.read()\n",
    "    decoded_text = read_text.decode()\n",
    "    tokens = nltk.word_tokenize(decoded_text)\n",
    "    \n",
    "    text = [] \n",
    "    for word in tokens:\n",
    "        if word.isalpha(): \n",
    "            if word not in stops:\n",
    "                 text.append(word.lower())     \n",
    "    \n",
    "    return text"
   ]
  },
  {
   "cell_type": "code",
   "execution_count": null,
   "id": "a39ac063",
   "metadata": {},
   "outputs": [],
   "source": [
    "# books by women\n",
    "frankenstein = 'https://www.gutenberg.org/cache/epub/84/pg84.txt'\n",
    "little_women = 'https://www.gutenberg.org/cache/epub/37106/pg37106.txt'\n",
    "pride_prejudice = 'https://www.gutenberg.org/cache/epub/1342/pg1342.txt'\n",
    "orlando = 'http://gutenberg.net.au/ebooks02/0200331.txt'\n",
    "\n",
    "# books by men\n",
    "dracula = 'https://www.gutenberg.org/cache/epub/345/pg345.txt'\n",
    "dorian_gray = 'https://www.gutenberg.org/cache/epub/174/pg174.txt'\n",
    "crime_punishment = 'https://www.gutenberg.org/files/2554/2554-0.txt'\n",
    "heart_darkness = 'https://www.gutenberg.org/files/219/219-0.txt'"
   ]
  },
  {
   "cell_type": "code",
   "execution_count": null,
   "id": "7d3e56fc",
   "metadata": {},
   "outputs": [],
   "source": [
    "text = clean(orlando)"
   ]
  },
  {
   "cell_type": "code",
   "execution_count": null,
   "id": "405fdb57",
   "metadata": {},
   "outputs": [],
   "source": [
    "print(text)"
   ]
  },
  {
   "attachments": {},
   "cell_type": "markdown",
   "id": "ea67ee20",
   "metadata": {},
   "source": [
    "## NLTK methods for text analysis"
   ]
  },
  {
   "cell_type": "code",
   "execution_count": null,
   "id": "482b8915",
   "metadata": {},
   "outputs": [],
   "source": [
    "text = nltk.Text(text)"
   ]
  },
  {
   "cell_type": "code",
   "execution_count": null,
   "id": "430788dc",
   "metadata": {},
   "outputs": [],
   "source": [
    "text.vocab().most_common(20)"
   ]
  },
  {
   "cell_type": "code",
   "execution_count": null,
   "id": "8b68eee0",
   "metadata": {},
   "outputs": [],
   "source": []
  }
 ],
 "metadata": {
  "kernelspec": {
   "display_name": "Python 3",
   "language": "python",
   "name": "python3"
  },
  "language_info": {
   "codemirror_mode": {
    "name": "ipython",
    "version": 3
   },
   "file_extension": ".py",
   "mimetype": "text/x-python",
   "name": "python",
   "nbconvert_exporter": "python",
   "pygments_lexer": "ipython3",
   "version": "3.7.7"
  }
 },
 "nbformat": 4,
 "nbformat_minor": 5
}
