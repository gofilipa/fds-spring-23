{
 "cells": [
  {
   "cell_type": "markdown",
   "id": "2db28a5b",
   "metadata": {},
   "source": [
    "# NLTK research questions"
   ]
  },
  {
   "cell_type": "code",
   "execution_count": 12,
   "id": "5fe2577b",
   "metadata": {},
   "outputs": [],
   "source": [
    "# Jupyter\n",
    "import nltk\n",
    "from nltk.tag import pos_tag\n",
    "from nltk.corpus import stopwords\n",
    "from nltk.stem import WordNetLemmatizer"
   ]
  },
  {
   "cell_type": "code",
   "execution_count": null,
   "id": "84b2f2d9",
   "metadata": {},
   "outputs": [],
   "source": [
    "# Colab\n",
    "import nltk\n",
    "from nltk.corpus import stopwords\n",
    "nltk.download('averaged_perceptron_tagger')\n",
    "nltk.download('stopwords')\n",
    "nltk.download('wordnet')\n",
    "nltk.download('omw-1.4')\n",
    "nltk.download('punkt')"
   ]
  },
  {
   "cell_type": "code",
   "execution_count": 2,
   "id": "3013480d",
   "metadata": {},
   "outputs": [
    {
     "name": "stdout",
     "output_type": "stream",
     "text": [
      "*** Introductory Examples for the NLTK Book ***\n",
      "Loading text1, ..., text9 and sent1, ..., sent9\n",
      "Type the name of the text or sentence to view it.\n",
      "Type: 'texts()' or 'sents()' to list the materials.\n",
      "text1: Moby Dick by Herman Melville 1851\n",
      "text2: Sense and Sensibility by Jane Austen 1811\n",
      "text3: The Book of Genesis\n",
      "text4: Inaugural Address Corpus\n",
      "text5: Chat Corpus\n",
      "text6: Monty Python and the Holy Grail\n",
      "text7: Wall Street Journal\n",
      "text8: Personals Corpus\n",
      "text9: The Man Who Was Thursday by G . K . Chesterton 1908\n"
     ]
    }
   ],
   "source": [
    "# first import the books\n",
    "from nltk.book import *"
   ]
  },
  {
   "cell_type": "code",
   "execution_count": 6,
   "id": "d5a42db3",
   "metadata": {},
   "outputs": [
    {
     "data": {
      "text/plain": [
       "[('In', 'IN'),\n",
       " ('the', 'DT'),\n",
       " ('beginning', 'NN'),\n",
       " ('God', 'NNP'),\n",
       " ('created', 'VBD'),\n",
       " ('the', 'DT'),\n",
       " ('heaven', 'NN'),\n",
       " ('and', 'CC'),\n",
       " ('the', 'DT'),\n",
       " ('earth', 'NN')]"
      ]
     },
     "execution_count": 6,
     "metadata": {},
     "output_type": "execute_result"
    }
   ],
   "source": [
    "# POS: tags parts of speech. why do you think this is useful? \n",
    "\n",
    "pos_tag(text3)[:10]"
   ]
  },
  {
   "cell_type": "code",
   "execution_count": 7,
   "id": "41515399",
   "metadata": {},
   "outputs": [
    {
     "name": "stdout",
     "output_type": "stream",
     "text": [
      "IN: preposition or conjunction, subordinating\n",
      "    astride among uppon whether out inside pro despite on by throughout\n",
      "    below within for towards near behind atop around if like until below\n",
      "    next into if beside ...\n"
     ]
    }
   ],
   "source": [
    "# for help in figuring out tags\n",
    "\n",
    "nltk.help.upenn_tagset('IN')"
   ]
  },
  {
   "cell_type": "markdown",
   "id": "c0d5bcdb",
   "metadata": {},
   "source": [
    "### personals corpus"
   ]
  },
  {
   "cell_type": "code",
   "execution_count": 15,
   "id": "cacdd170",
   "metadata": {},
   "outputs": [
    {
     "data": {
      "text/plain": [
       "FreqDist({',': 539, '.': 353, '/': 110, 'for': 99, 'and': 74, 'to': 74, 'lady': 68, '-': 66, 'seeks': 60, 'a': 52, ...})"
      ]
     },
     "execution_count": 15,
     "metadata": {},
     "output_type": "execute_result"
    }
   ],
   "source": [
    "FreqDist(text8)"
   ]
  },
  {
   "cell_type": "code",
   "execution_count": 16,
   "id": "43b7d172",
   "metadata": {},
   "outputs": [
    {
     "data": {
      "text/plain": [
       "[(',', 539),\n",
       " ('.', 353),\n",
       " ('/', 110),\n",
       " ('for', 99),\n",
       " ('and', 74),\n",
       " ('to', 74),\n",
       " ('lady', 68),\n",
       " ('-', 66),\n",
       " ('seeks', 60),\n",
       " ('a', 52),\n",
       " ('with', 44),\n",
       " ('S', 36),\n",
       " ('ship', 33),\n",
       " ('&', 30),\n",
       " ('relationship', 29),\n",
       " ('fun', 28),\n",
       " ('in', 27),\n",
       " ('slim', 27),\n",
       " ('build', 27),\n",
       " ('o', 26)]"
      ]
     },
     "execution_count": 16,
     "metadata": {},
     "output_type": "execute_result"
    }
   ],
   "source": [
    "FreqDist(text8).most_common(20)"
   ]
  },
  {
   "cell_type": "code",
   "execution_count": 17,
   "id": "8596433b",
   "metadata": {},
   "outputs": [],
   "source": [
    "# looks like our text needs some cleaning. Let's remove stopwords and punctuation.\n",
    "\n",
    "p_no_punct_lower = [] \n",
    "\n",
    "for word in text8: \n",
    "    if word.isalpha():\n",
    "        p_no_punct_lower.append(word.lower())\n",
    "\n",
    "stops = stopwords.words('english')\n",
    "\n",
    "p_no_stops = []\n",
    "\n",
    "for item in p_no_punct_lower:\n",
    "    if item not in stops:\n",
    "        p_no_stops.append(item)"
   ]
  },
  {
   "cell_type": "code",
   "execution_count": 18,
   "id": "9e2147c6",
   "metadata": {},
   "outputs": [
    {
     "data": {
      "text/plain": [
       "[('lady', 88),\n",
       " ('seeks', 72),\n",
       " ('male', 42),\n",
       " ('looking', 34),\n",
       " ('ship', 33),\n",
       " ('slim', 33),\n",
       " ('fun', 31),\n",
       " ('attractive', 29),\n",
       " ('relationship', 29),\n",
       " ('build', 27),\n",
       " ('good', 26),\n",
       " ('seeking', 25),\n",
       " ('non', 25),\n",
       " ('smoker', 23),\n",
       " ('n', 23),\n",
       " ('guy', 22),\n",
       " ('honest', 22),\n",
       " ('movies', 22),\n",
       " ('age', 21),\n",
       " ('married', 21)]"
      ]
     },
     "execution_count": 18,
     "metadata": {},
     "output_type": "execute_result"
    }
   ],
   "source": [
    "FreqDist(p_no_stops).most_common(20)"
   ]
  },
  {
   "cell_type": "code",
   "execution_count": 19,
   "id": "a1a425cd",
   "metadata": {},
   "outputs": [],
   "source": [
    "personals = p_no_stops"
   ]
  },
  {
   "cell_type": "code",
   "execution_count": 21,
   "id": "e1b374d8",
   "metadata": {},
   "outputs": [],
   "source": [
    "personals = nltk.Text(personals)"
   ]
  },
  {
   "cell_type": "code",
   "execution_count": 22,
   "id": "0d43d036",
   "metadata": {},
   "outputs": [
    {
     "name": "stdout",
     "output_type": "stream",
     "text": [
      "seeks fem female looking women someone woman short\n"
     ]
    }
   ],
   "source": [
    "personals.similar('lady')"
   ]
  },
  {
   "cell_type": "code",
   "execution_count": 23,
   "id": "598ea9cd",
   "metadata": {},
   "outputs": [
    {
     "name": "stdout",
     "output_type": "stream",
     "text": [
      "male young\n"
     ]
    }
   ],
   "source": [
    "personals.similar('man')"
   ]
  },
  {
   "cell_type": "code",
   "execution_count": 26,
   "id": "1ca8990b",
   "metadata": {},
   "outputs": [
    {
     "name": "stdout",
     "output_type": "stream",
     "text": [
      "looking_non asian_sought seeks_age seeks_casual married_discreet\n",
      "seeks_r single_discreet seeking_uniform mum_fship affectionate_sought\n",
      "attractive_european attractive_children meet_friendship caring_likes\n",
      "honest_friendship figured_plus looking_similar classy_wants\n",
      "medium_friendship loving_friendship\n"
     ]
    }
   ],
   "source": [
    "personals.common_contexts(['lady'])"
   ]
  },
  {
   "cell_type": "code",
   "execution_count": 28,
   "id": "a4a8dfae",
   "metadata": {},
   "outputs": [
    {
     "name": "stdout",
     "output_type": "stream",
     "text": [
      "non smoker; would like; like meet; age open; social drinker; medium\n",
      "build; quiet nights; long term; sense humour; med build; easy going;\n",
      "nights home; poss rship; smoker social; financially secure; fship\n",
      "poss; fun times; weekends away; single dad; similar interests\n"
     ]
    }
   ],
   "source": [
    "personals.collocations()"
   ]
  },
  {
   "cell_type": "code",
   "execution_count": 29,
   "id": "40c11ec3",
   "metadata": {},
   "outputs": [
    {
     "data": {
      "text/plain": [
       "88"
      ]
     },
     "execution_count": 29,
     "metadata": {},
     "output_type": "execute_result"
    }
   ],
   "source": [
    "personals.count('lady')"
   ]
  },
  {
   "cell_type": "code",
   "execution_count": 30,
   "id": "45a11391",
   "metadata": {},
   "outputs": [
    {
     "name": "stdout",
     "output_type": "stream",
     "text": [
      "nts home self supporting happy nat fun loving lady friendship\n",
      "relationship kids ok eastern suburbs yo male blond outgoing genuine\n",
      "friendly seeking female bet w yo easygoing friendly year old working\n",
      "tall guy would like meet sexy honest reliable looking find friend\n",
      "asian guy prof well presented athletic ties n seeks female early fun\n",
      "times possible relationship little magic looking lady non smoker\n",
      "social drinker seeking female bet w yo easygoing friendly year old\n",
      "lady relationship clare barossa region northern suburbs tall\n",
      "attractive male ties earth easy going gsoh honest reliable looking\n",
      "find friend asian guy prof well presented wltm\n"
     ]
    },
    {
     "name": "stderr",
     "output_type": "stream",
     "text": [
      "Building ngram index...\n"
     ]
    },
    {
     "data": {
      "text/plain": [
       "'nts home self supporting happy nat fun loving lady friendship\\nrelationship kids ok eastern suburbs yo male blond outgoing genuine\\nfriendly seeking female bet w yo easygoing friendly year old working\\ntall guy would like meet sexy honest reliable looking find friend\\nasian guy prof well presented athletic ties n seeks female early fun\\ntimes possible relationship little magic looking lady non smoker\\nsocial drinker seeking female bet w yo easygoing friendly year old\\nlady relationship clare barossa region northern suburbs tall\\nattractive male ties earth easy going gsoh honest reliable looking\\nfind friend asian guy prof well presented wltm'"
      ]
     },
     "execution_count": 30,
     "metadata": {},
     "output_type": "execute_result"
    }
   ],
   "source": [
    "personals.generate(100)"
   ]
  },
  {
   "cell_type": "code",
   "execution_count": null,
   "id": "d693b565",
   "metadata": {},
   "outputs": [],
   "source": []
  }
 ],
 "metadata": {
  "kernelspec": {
   "display_name": "Python 3",
   "language": "python",
   "name": "python3"
  },
  "language_info": {
   "codemirror_mode": {
    "name": "ipython",
    "version": 3
   },
   "file_extension": ".py",
   "mimetype": "text/x-python",
   "name": "python",
   "nbconvert_exporter": "python",
   "pygments_lexer": "ipython3",
   "version": "3.7.7"
  }
 },
 "nbformat": 4,
 "nbformat_minor": 5
}
