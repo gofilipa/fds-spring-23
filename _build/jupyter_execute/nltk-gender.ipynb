{
 "cells": [
  {
   "cell_type": "markdown",
   "id": "116c1e98",
   "metadata": {},
   "source": [
    "# NLTK: text analysis"
   ]
  },
  {
   "cell_type": "code",
   "execution_count": 1,
   "id": "70a2b80e",
   "metadata": {},
   "outputs": [],
   "source": [
    "# On Jupyter - run this cell\n",
    "import nltk\n",
    "from nltk.corpus import stopwords\n",
    "from nltk.stem import WordNetLemmatizer\n",
    "from urllib.request import urlopen "
   ]
  },
  {
   "cell_type": "code",
   "execution_count": 2,
   "id": "8003498d",
   "metadata": {},
   "outputs": [
    {
     "name": "stderr",
     "output_type": "stream",
     "text": [
      "[nltk_data] Downloading package stopwords to\n",
      "[nltk_data]     /Users/filipacalado/nltk_data...\n",
      "[nltk_data]   Package stopwords is already up-to-date!\n",
      "[nltk_data] Downloading package wordnet to\n",
      "[nltk_data]     /Users/filipacalado/nltk_data...\n",
      "[nltk_data]   Package wordnet is already up-to-date!\n",
      "[nltk_data] Downloading package omw-1.4 to\n",
      "[nltk_data]     /Users/filipacalado/nltk_data...\n"
     ]
    },
    {
     "name": "stderr",
     "output_type": "stream",
     "text": [
      "[nltk_data]   Package omw-1.4 is already up-to-date!\n",
      "[nltk_data] Downloading package punkt to\n",
      "[nltk_data]     /Users/filipacalado/nltk_data...\n",
      "[nltk_data]   Package punkt is already up-to-date!\n"
     ]
    }
   ],
   "source": [
    "# on Colab -- run this cell\n",
    "import nltk\n",
    "from nltk.corpus import stopwords\n",
    "nltk.download('stopwords')\n",
    "nltk.download('wordnet')\n",
    "nltk.download('omw-1.4')\n",
    "nltk.download('punkt')\n",
    "from urllib.request import urlopen "
   ]
  },
  {
   "cell_type": "markdown",
   "id": "24667e8d",
   "metadata": {},
   "source": [
    "## selecting and cleaning our text"
   ]
  },
  {
   "cell_type": "code",
   "execution_count": 3,
   "id": "00a826c8",
   "metadata": {},
   "outputs": [],
   "source": [
    "def clean(url):\n",
    "    # loads and tokenizes the text\n",
    "    open_url = urlopen(url)\n",
    "    read_text = open_url.read()\n",
    "    decoded_text = read_text.decode()\n",
    "    tokens = nltk.word_tokenize(decoded_text)\n",
    "    \n",
    "    # cleans the text\n",
    "    stops = stopwords.words('english')\n",
    "    text = [] \n",
    "    for word in tokens:\n",
    "        if word.isalpha(): \n",
    "            if word not in stops:\n",
    "                lemmatizer = WordNetLemmatizer()\n",
    "                # lemmatizer = nltk.stem.WordNetLemmatizer()\n",
    "                root = lemmatizer.lemmatize(word)\n",
    "                text.append(root.lower())     \n",
    "    \n",
    "    return text"
   ]
  },
  {
   "cell_type": "code",
   "execution_count": 4,
   "id": "2accca8b",
   "metadata": {},
   "outputs": [],
   "source": [
    "# books by women\n",
    "frankenstein = 'https://www.gutenberg.org/cache/epub/84/pg84.txt'\n",
    "little_women = 'https://www.gutenberg.org/cache/epub/37106/pg37106.txt'\n",
    "pride_prejudice = 'https://www.gutenberg.org/cache/epub/1342/pg1342.txt'\n",
    "orlando = 'http://gutenberg.net.au/ebooks02/0200331.txt'\n",
    "\n",
    "# books by men\n",
    "dracula = 'https://www.gutenberg.org/cache/epub/345/pg345.txt'\n",
    "dorian_gray = 'https://www.gutenberg.org/cache/epub/174/pg174.txt'\n",
    "crime_punishment = 'https://www.gutenberg.org/files/2554/2554-0.txt'\n",
    "heart_darkness = 'https://www.gutenberg.org/files/219/219-0.txt'"
   ]
  },
  {
   "cell_type": "code",
   "execution_count": 5,
   "id": "3bc78b39",
   "metadata": {},
   "outputs": [],
   "source": [
    "# running the \"clean\" function on the text \"orlando\"\n",
    "\n",
    "orl = clean(orlando)"
   ]
  },
  {
   "cell_type": "code",
   "execution_count": 6,
   "id": "a02f575b",
   "metadata": {},
   "outputs": [],
   "source": [
    "dor = clean(dorian_gray)"
   ]
  },
  {
   "cell_type": "markdown",
   "id": "3f6345e4",
   "metadata": {},
   "source": [
    "## NLTK methods for text analysis"
   ]
  },
  {
   "cell_type": "code",
   "execution_count": 7,
   "id": "b118f8ae",
   "metadata": {},
   "outputs": [
    {
     "data": {
      "text/plain": [
       "['project',\n",
       " 'gutenberg',\n",
       " 'australia',\n",
       " 'title',\n",
       " 'orlando',\n",
       " 'author',\n",
       " 'virginia',\n",
       " 'woolf',\n",
       " 'a',\n",
       " 'project',\n",
       " 'gutenberg',\n",
       " 'australia',\n",
       " 'ebook',\n",
       " 'ebook',\n",
       " 'no',\n",
       " 'language',\n",
       " 'english',\n",
       " 'date',\n",
       " 'first',\n",
       " 'posted']"
      ]
     },
     "execution_count": 7,
     "metadata": {},
     "output_type": "execute_result"
    }
   ],
   "source": [
    "orl[:20]"
   ]
  },
  {
   "cell_type": "code",
   "execution_count": 8,
   "id": "dee07f03",
   "metadata": {},
   "outputs": [
    {
     "data": {
      "text/plain": [
       "list"
      ]
     },
     "execution_count": 8,
     "metadata": {},
     "output_type": "execute_result"
    }
   ],
   "source": [
    "type(orl)"
   ]
  },
  {
   "cell_type": "code",
   "execution_count": 9,
   "id": "ebbbabbc",
   "metadata": {},
   "outputs": [],
   "source": [
    "# turn our saved text (list of strings) to an NLTK object for \n",
    "# text analysis\n",
    "\n",
    "orlando = nltk.Text(orl)"
   ]
  },
  {
   "cell_type": "code",
   "execution_count": 10,
   "id": "1ff7513d",
   "metadata": {},
   "outputs": [
    {
     "data": {
      "text/plain": [
       "nltk.text.Text"
      ]
     },
     "execution_count": 10,
     "metadata": {},
     "output_type": "execute_result"
    }
   ],
   "source": [
    "type(orlando)"
   ]
  },
  {
   "cell_type": "code",
   "execution_count": 11,
   "id": "87944ee9",
   "metadata": {
    "scrolled": true
   },
   "outputs": [
    {
     "data": {
      "text/plain": [
       "[('orlando', 436),\n",
       " ('one', 371),\n",
       " ('the', 309),\n",
       " ('would', 292),\n",
       " ('could', 234),\n",
       " ('she', 218),\n",
       " ('i', 197),\n",
       " ('woman', 181),\n",
       " ('said', 172),\n",
       " ('but', 158),\n",
       " ('like', 157),\n",
       " ('thought', 155),\n",
       " ('time', 154),\n",
       " ('upon', 153),\n",
       " ('great', 143),\n",
       " ('he', 140),\n",
       " ('it', 135),\n",
       " ('man', 130),\n",
       " ('hand', 124),\n",
       " ('life', 124)]"
      ]
     },
     "execution_count": 11,
     "metadata": {},
     "output_type": "execute_result"
    }
   ],
   "source": [
    "# checks the most common words\n",
    "\n",
    "orlando.vocab().most_common(20)"
   ]
  },
  {
   "cell_type": "code",
   "execution_count": 12,
   "id": "8b18f8db",
   "metadata": {},
   "outputs": [
    {
     "data": {
      "text/plain": [
       "[('i', 1684),\n",
       " ('he', 499),\n",
       " ('the', 434),\n",
       " ('one', 432),\n",
       " ('dorian', 410),\n",
       " ('it', 384),\n",
       " ('you', 376),\n",
       " ('would', 305),\n",
       " ('said', 261),\n",
       " ('lord', 248),\n",
       " ('life', 245),\n",
       " ('thing', 241),\n",
       " ('henry', 234),\n",
       " ('like', 215),\n",
       " ('gray', 195),\n",
       " ('know', 183),\n",
       " ('but', 182),\n",
       " ('man', 178),\n",
       " ('never', 173),\n",
       " ('harry', 166)]"
      ]
     },
     "execution_count": 12,
     "metadata": {},
     "output_type": "execute_result"
    }
   ],
   "source": [
    "dorian = nltk.Text(dor)\n",
    "\n",
    "dorian.vocab().most_common(20)"
   ]
  },
  {
   "cell_type": "code",
   "execution_count": 13,
   "id": "99593805",
   "metadata": {},
   "outputs": [
    {
     "name": "stdout",
     "output_type": "stream",
     "text": [
      "no friend could till word growing saw moment servant reached always\n",
      "wit sailor live wretch cried led resembled serpentine\n"
     ]
    }
   ],
   "source": [
    "# my goal is to compare the genders in the text\n",
    "\n",
    "orlando.similar('woman')"
   ]
  },
  {
   "cell_type": "code",
   "execution_count": 14,
   "id": "57d3c9c0",
   "metadata": {},
   "outputs": [
    {
     "name": "stdout",
     "output_type": "stream",
     "text": [
      "year ready woman poor\n"
     ]
    }
   ],
   "source": [
    "# I want to explore the word \"servant\"\n",
    "\n",
    "orlando.similar('servant')"
   ]
  },
  {
   "cell_type": "code",
   "execution_count": 15,
   "id": "16c9fc10",
   "metadata": {},
   "outputs": [
    {
     "name": "stdout",
     "output_type": "stream",
     "text": [
      "growing woman wrong\n"
     ]
    }
   ],
   "source": [
    "orlando.similar('serpentine')"
   ]
  },
  {
   "cell_type": "code",
   "execution_count": 16,
   "id": "e6396a20",
   "metadata": {},
   "outputs": [
    {
     "name": "stdout",
     "output_type": "stream",
     "text": [
      "word woman\n"
     ]
    }
   ],
   "source": [
    "orlando.similar('friend')"
   ]
  },
  {
   "cell_type": "code",
   "execution_count": 17,
   "id": "986674f0",
   "metadata": {},
   "outputs": [
    {
     "name": "stdout",
     "output_type": "stream",
     "text": [
      "friend case time dog fact woman armchair\n"
     ]
    }
   ],
   "source": [
    "orlando.similar('word')"
   ]
  },
  {
   "cell_type": "code",
   "execution_count": 18,
   "id": "9c9ad486",
   "metadata": {},
   "outputs": [
    {
     "name": "stdout",
     "output_type": "stream",
     "text": [
      "Displaying 9 of 9 matches:\n",
      "e but pitched without knowing far serpentine the barking thousand dog sounded \n",
      "er say one thought she stood bank serpentine it bronze colour boat skimming si\n",
      "ant yet remains thing if one look serpentine state mind wave soon become big w\n",
      "hel tell and repeating a toy boat serpentine alternately thought interchangeab\n",
      " husband i mean bonthrop toy boat serpentine ecstasy ecstasy matter thus spoke\n",
      "epeating ecstasy ecstasy toy boat serpentine wealth power england sat sculptur\n",
      "er shop climb hill i begin live i serpentine thought little boat climbing whit\n",
      "lking became entirely path partly serpentine hawthorn bush partly lady gentlem\n",
      "are girl russian trouser toy boat serpentine atlantic storm great wave past ca\n"
     ]
    }
   ],
   "source": [
    "orlando.concordance('serpentine')"
   ]
  },
  {
   "cell_type": "code",
   "execution_count": 19,
   "id": "0288c00b",
   "metadata": {},
   "outputs": [
    {
     "data": {
      "image/png": "[encoded data removed]",
      "text/plain": [
       "<Figure size 432x288 with 1 Axes>"
      ]
     },
     "metadata": {
      "filenames": {
       "image/png": "/Users/filipacalado/Desktop/fds-spring-23/_build/jupyter_execute/nltk-gender_21_0.png"
      },
      "needs_background": "light"
     },
     "output_type": "display_data"
    }
   ],
   "source": [
    "orlando.dispersion_plot(['ecstasy'])"
   ]
  },
  {
   "cell_type": "code",
   "execution_count": 20,
   "id": "85e3a857",
   "metadata": {},
   "outputs": [
    {
     "name": "stdout",
     "output_type": "stream",
     "text": [
      "Displaying 11 of 11 matches:\n",
      "rst time murmured delight love then ecstasy lay lulled swoon ice would tell lov\n",
      " seemed vile corrected tore cut put ecstasy despair good night bad morning snat\n",
      "ed hyacinth purple iris wrought cry ecstasy goodness beauty nature raising eye \n",
      "ago then pursued fled which greater ecstasy the man woman and perhaps no though\n",
      "triking phrase depth despair height ecstasy writing one shadow darkened page sh\n",
      "ivered air fell middle then strange ecstasy came some wild notion following bir\n",
      "i mean bonthrop toy boat serpentine ecstasy ecstasy matter thus spoke aloud wai\n",
      "onthrop toy boat serpentine ecstasy ecstasy matter thus spoke aloud waiting car\n",
      " boat raised height joy so repeated ecstasy stood waiting cross but traffic hea\n",
      "g afternoon kept standing repeating ecstasy ecstasy toy boat serpentine wealth \n",
      "oon kept standing repeating ecstasy ecstasy toy boat serpentine wealth power en\n"
     ]
    }
   ],
   "source": [
    "# I want to dig deeper into this word 'ecstasy'\n",
    "\n",
    "orlando.concordance('ecstasy')"
   ]
  },
  {
   "cell_type": "code",
   "execution_count": 21,
   "id": "b2256480",
   "metadata": {},
   "outputs": [
    {
     "name": "stdout",
     "output_type": "stream",
     "text": [
      "i life basil thing man round young would saying age say rank u looking\n",
      "till spoke else argue favourite victim\n"
     ]
    }
   ],
   "source": [
    "dorian.similar('woman')"
   ]
  },
  {
   "cell_type": "code",
   "execution_count": 22,
   "id": "f605776f",
   "metadata": {},
   "outputs": [
    {
     "name": "stdout",
     "output_type": "stream",
     "text": [
      "Displaying 3 of 3 matches:\n",
      " flute distant hautboy in tremulous ecstasy one hears dawn nightingale singing \n",
      "emed listen she transfigured joy an ecstasy happiness dominated dorian dorian c\n",
      " time whether one reading spiritual ecstasy mediæval saint morbid confession mo\n"
     ]
    }
   ],
   "source": [
    "dorian.concordance('ecstasy')"
   ]
  },
  {
   "cell_type": "code",
   "execution_count": 23,
   "id": "31352896",
   "metadata": {},
   "outputs": [
    {
     "name": "stdout",
     "output_type": "stream",
     "text": [
      "tremulous_one an_happiness spiritual_mediæval\n"
     ]
    }
   ],
   "source": [
    "dorian.common_contexts(['ecstasy'])"
   ]
  },
  {
   "cell_type": "code",
   "execution_count": 24,
   "id": "fe4da1d0",
   "metadata": {},
   "outputs": [
    {
     "name": "stdout",
     "output_type": "stream",
     "text": [
      "then_lay put_despair cry_goodness greater_the height_writing\n",
      "strange_came serpentine_ecstasy ecstasy_matter repeated_stood\n",
      "repeating_ecstasy ecstasy_toy\n"
     ]
    }
   ],
   "source": [
    "orlando.common_contexts(['ecstasy'])"
   ]
  },
  {
   "cell_type": "code",
   "execution_count": 25,
   "id": "c86f4ac9",
   "metadata": {},
   "outputs": [
    {
     "data": {
      "image/png": "[encoded data removed]",
      "text/plain": [
       "<Figure size 432x288 with 1 Axes>"
      ]
     },
     "metadata": {
      "filenames": {
       "image/png": "/Users/filipacalado/Desktop/fds-spring-23/_build/jupyter_execute/nltk-gender_27_0.png"
      },
      "needs_background": "light"
     },
     "output_type": "display_data"
    }
   ],
   "source": [
    "dorian.dispersion_plot(['woman', 'man'])"
   ]
  },
  {
   "cell_type": "code",
   "execution_count": 26,
   "id": "c36faadd",
   "metadata": {},
   "outputs": [
    {
     "name": "stdout",
     "output_type": "stream",
     "text": [
      "lord henry; dorian gray; sibyl vane; project gutenberg; electronic\n",
      "work; basil hallward; united states; said lord; lady narborough; shook\n",
      "head; literary archive; archive foundation; project electronic;\n",
      "gutenberg literary; dear fellow; adrian singleton; shrugged shoulder;\n",
      "prince charming; young man; lady agatha\n"
     ]
    }
   ],
   "source": [
    "dorian.collocations()"
   ]
  },
  {
   "cell_type": "markdown",
   "id": "1d0408d5",
   "metadata": {},
   "source": [
    "## group challenge"
   ]
  },
  {
   "cell_type": "markdown",
   "id": "3aab3938",
   "metadata": {},
   "source": [
    "Compare and contrast one text by a woman and one text by a man. One possibility is to compare the main characters from each text. Another possibility is to compare the genders of the main characters. Or you can explore themes, or settings from the text.\n",
    "\n",
    "After cleaning your text, use NLTK methods like: \n",
    "- `concordance()`\n",
    "- `dispersion_plot([])`\n",
    "- `collocations()`\n",
    "- `common_contexts([])`\n",
    "- most common words: `text.vocab().most_common(20)`\n",
    "\n",
    "Try to answer the following questions:\n",
    "- What words are associated with \"man\" and \"woman\" from each text?\n",
    "- What are the differences between the genders?\n",
    "- What are the differences in gender portrayal between the male and female authors?"
   ]
  },
  {
   "cell_type": "markdown",
   "id": "2b7c485e",
   "metadata": {},
   "source": [
    "Frankenstein: \"man\" vs \"woman\" \n",
    "- with `similar()`, \"man\" has 14 words, and \"woman\" has 1. \n",
    "- Means that men has more references than women text. Makes sense because it's about a male scientist creating a man. "
   ]
  },
  {
   "cell_type": "code",
   "execution_count": 27,
   "id": "046bfb7a",
   "metadata": {},
   "outputs": [
    {
     "data": {
      "text/plain": [
       "181"
      ]
     },
     "execution_count": 27,
     "metadata": {},
     "output_type": "execute_result"
    }
   ],
   "source": [
    "orlando.count(\"woman\")"
   ]
  },
  {
   "cell_type": "code",
   "execution_count": 28,
   "id": "dc32498b",
   "metadata": {},
   "outputs": [
    {
     "data": {
      "text/plain": [
       "130"
      ]
     },
     "execution_count": 28,
     "metadata": {},
     "output_type": "execute_result"
    }
   ],
   "source": [
    "orlando.count(\"man\")"
   ]
  },
  {
   "cell_type": "markdown",
   "id": "79ec9b7e",
   "metadata": {},
   "source": [
    "## group challenge: monsters\n",
    "\n",
    "Compare and contrast the monsters from Frankenstein and Dracula. One possibility is to compare the main characters from each text.\n",
    "\n",
    "After cleaning your text, use NLTK methods like: \n",
    "- `concordance()`\n",
    "- `dispersion_plot([])`\n",
    "- `collocations()`\n",
    "- `common_contexts([])`\n",
    "- most common words: `text.vocab().most_common(20)`\n",
    "\n",
    "Explore the different ways that monster is being portrayed across Dracula and Frankenstein. What words are associated with each one? Try using words like “Dracula” “Vampire” and “Murderer”, or other words that seem appropriate to your analysis"
   ]
  },
  {
   "cell_type": "code",
   "execution_count": 29,
   "id": "53c99d74",
   "metadata": {},
   "outputs": [
    {
     "ename": "NameError",
     "evalue": "name 'drac' is not defined",
     "output_type": "error",
     "traceback": [
      "\u001b[0;31m---------------------------------------------------------------------------\u001b[0m",
      "\u001b[0;31mNameError\u001b[0m                                 Traceback (most recent call last)",
      "\u001b[0;32m<ipython-input-29-6813da0ed826>\u001b[0m in \u001b[0;36m<module>\u001b[0;34m\u001b[0m\n\u001b[0;32m----> 1\u001b[0;31m \u001b[0mdrac\u001b[0m\u001b[0;34m.\u001b[0m\u001b[0mconcordance\u001b[0m\u001b[0;34m(\u001b[0m\u001b[0;34m\"monster\"\u001b[0m\u001b[0;34m)\u001b[0m\u001b[0;34m\u001b[0m\u001b[0;34m\u001b[0m\u001b[0m\n\u001b[0m",
      "\u001b[0;31mNameError\u001b[0m: name 'drac' is not defined"
     ]
    }
   ],
   "source": [
    "drac.concordance(\"monster\")"
   ]
  },
  {
   "cell_type": "code",
   "execution_count": 17,
   "id": "3b7581f5",
   "metadata": {},
   "outputs": [
    {
     "name": "stdout",
     "output_type": "stream",
     "text": [
      "Displaying 25 of 30 matches:\n",
      " window shutters i beheld miserable monster i created he held curtain bed eyes \n",
      "till alive walking i dreaded behold monster i feared still henry see entreating\n",
      "e room tell oh save save i imagined monster seized i struggled furiously fell f\n",
      "friend could restored life the form monster i bestowed existence ever eyes i ra\n",
      "ened menaced i almost began think i monster said i he threatened excommunicatio\n",
      "rable evils i lived daily fear lest monster i created perpetrate new wickedness\n",
      "h satiated blood remaining abhorred monster fiend thou art the tortures hell mi\n",
      " i became fully convinced i reality monster i i filled bitterest sensations des\n",
      " around i saw heard none like was i monster blot upon earth men fled men disown\n",
      "med agony accursed creator why form monster hideous even turned disgust god pit\n",
      "he struggled violently let go cried monster ugly wretch you wish eat tear piece\n",
      " never see father must come hideous monster let go my papa punish you dare keep\n",
      "round i must perform engagement let monster depart mate i allowed enjoy delight\n",
      "eace happiness my promise fulfilled monster would depart ever or fond fancy ima\n",
      "otland finish work solitude i doubt monster followed would discover i finished \n",
      " begone i firm words exasperate the monster saw determination face gnashed teet\n",
      "hought elizabeth father left behind monster might satisfy sanguinary merciless \n",
      "d i tormented others i felt fingers monster already grasping neck screamed alou\n",
      "inged sometimes watery clouded eyes monster i first saw chamber ingolstadt my f\n",
      "end dearest companion fallen victim monster creation i repassed memory whole li\n",
      " hope yet i would die make happy if monster executed threat death inevitable ye\n",
      "marriage but possessed magic powers monster blinded real intentions i thought i\n",
      "figure hideous abhorred a grin face monster seemed jeer fiendish finger pointed\n",
      "rtunes pressed upon i began reflect monster i created miserable dæmon i sent ab\n",
      "u mistaken said i exert power seize monster assured shall suffer punishment pro\n"
     ]
    }
   ],
   "source": [
    "frank.concordance(\"monster\")"
   ]
  },
  {
   "cell_type": "code",
   "execution_count": null,
   "id": "b24c9b64",
   "metadata": {},
   "outputs": [],
   "source": [
    "# for frankenstein, words like \"miserable\", \"fear\", \"solitude\" appear in context with \"monster\"\n",
    "# for dracula, words like \"destroy\", \"terrible\", \"threw\", \"shouted\" appear in context with \"monster\"\n",
    "\n",
    "# these resulst suggest that Dracula was much less sympathetic than Frankenstein. \n",
    "# we sort of pity Frankenstein, while we fear Dracula. "
   ]
  },
  {
   "cell_type": "code",
   "execution_count": 20,
   "id": "a71cad86",
   "metadata": {},
   "outputs": [
    {
     "data": {
      "image/png": "[encoded data removed]",
      "text/plain": [
       "<Figure size 432x288 with 1 Axes>"
      ]
     },
     "metadata": {
      "filenames": {
       "image/png": "/Users/filipacalado/Desktop/fds-spring-23/_build/jupyter_execute/nltk-gender_38_0.png"
      },
      "needs_background": "light"
     },
     "output_type": "display_data"
    }
   ],
   "source": [
    "# dispersion plot of the words \"child\", \"scream\", and \"hide\"\n",
    "\n",
    "frank.dispersion_plot([\"child\", \"scream\", \"hide\"])"
   ]
  },
  {
   "cell_type": "code",
   "execution_count": null,
   "id": "c58c72e4",
   "metadata": {},
   "outputs": [
    {
     "data": {
      "image/png": "[encoded data removed]",
      "text/plain": [
       "<Figure size 432x288 with 1 Axes>"
      ]
     },
     "metadata": {
      "filenames": {
       "image/png": "/Users/filipacalado/Desktop/fds-spring-23/_build/jupyter_execute/nltk-gender_39_0.png"
      },
      "needs_background": "light"
     },
     "output_type": "display_data"
    }
   ],
   "source": [
    "# compared to frankenstein, dracula has more instances of \"scream\" and \"hide\". This suggests\n",
    "# that the monster in dracula is more terrifying than the monster in frankenstein.\n",
    "\n",
    "# the graph also shows more instances of \"child\" in the middle and end of the novel. Maybe there's \n",
    "# a loss of innocence \"child\" in frankenstein, but not in dracula. To find out, we would look at \n",
    "# the context of the word \"child\" across the novels.\n",
    " \n",
    "drac.dispersion_plot([\"child\", \"scream\", \"hide\"])"
   ]
  },
  {
   "cell_type": "code",
   "execution_count": 22,
   "id": "4140e873",
   "metadata": {},
   "outputs": [
    {
     "name": "stdout",
     "output_type": "stream",
     "text": [
      "shall but yet soon humanity closed sledge went replied friends\n",
      "ineffectual monster virtue instructed fellowship\n"
     ]
    }
   ],
   "source": [
    "# checking words similar to \"child\" in frankenstein and dracula\n",
    "\n",
    "frank.similar('child')"
   ]
  },
  {
   "cell_type": "code",
   "execution_count": 23,
   "id": "78cdbd76",
   "metadata": {},
   "outputs": [
    {
     "name": "stdout",
     "output_type": "stream",
     "text": [
      "i life dear night said it yes she duty whilst no awful need heart\n",
      "believe sad owner agonising\n"
     ]
    }
   ],
   "source": [
    "drac.similar('child')"
   ]
  },
  {
   "cell_type": "code",
   "execution_count": 24,
   "id": "5c38817b",
   "metadata": {},
   "outputs": [
    {
     "name": "stdout",
     "output_type": "stream",
     "text": [
      "Displaying 25 of 65 matches:\n",
      "opened if ears deceive gasp low wail child the women closed round whilst i agha\n",
      "uted voice laden menace monster give child she threw knees raising hands cried \n",
      "king lips i could pity i knew become child better dead what shall i i how i esc\n",
      "ome home rose without word obedience child as passed along gravel hurt feet luc\n",
      " regarding remember nothing she says child used walk sleep whitby habit came ba\n",
      " you lover dear miss she bad bad nay child go like for suddenly grew pale sat c\n",
      "little miss medicine drink like good child see i lift swallow easy yes she made\n",
      "d you glad know lucy better the dear child still asleep i looked room saw go le\n",
      " asked professor well i anxious dear child night went room she sleeping soundly\n",
      "i feared heavy odour would much dear child weak state i took away opened bit wi\n",
      "i fear end watching shock great poor child rally god help us mina harker lucy u\n",
      " want make home i left neither chick child gone i left everything i cried lucy \n",
      "ffer agreed go van helsing kind come child said come you sick weak much sorrow \n",
      "d softly breath came went like tired child and insensibly came strange change i\n",
      "rs oath then turned arthur said come child take hand kiss forehead their eyes m\n",
      " knowing though pleasant things john child friend many years yet ever know with\n",
      "nerally supposed neighbourhood first child missed gave reason away bloofer lady\n",
      "gazette the hampstead horror another child injured bloofer lady we received int\n",
      "ady we received intelligence another child missed last night discovered late mo\n",
      "a murray i came see friend poor dear child lucy westenra madam mina account dea\n",
      "f come i tell i propose first go see child hospital vincent north hospital pape\n",
      "al vincent north hospital papers say child friend mine i think since class amst\n",
      "er hasten afternoon passing we found child awake it sleep taken food altogether\n",
      "lady i hope said van helsing sending child home caution parents keep strict wat\n",
      " watch these fancies stray dangerous child remain another night would probably \n"
     ]
    }
   ],
   "source": [
    "# checking the context of \"child\" in frankenstein and dracula\n",
    "\n",
    "drac.concordance('child')"
   ]
  },
  {
   "cell_type": "code",
   "execution_count": 25,
   "id": "b4d94a5a",
   "metadata": {},
   "outputs": [
    {
     "name": "stdout",
     "output_type": "stream",
     "text": [
      "Displaying 25 of 35 matches:\n",
      "induce commence laborious voyage joy child feels embarks little boat holiday ma\n",
      " familiarity increased regret i felt child learning father dying injunction for\n",
      "taly visited germany france i eldest child born naples infant accompanied rambl\n",
      "ied rambles i remained several years child much attached seemed draw inexhausti\n",
      "llections i plaything idol something child innocent helpless creature bestowed \n",
      "he four others hardy little vagrants child thin fair her hair brightest living \n",
      "irl eagerly communicated history she child daughter milanese nobleman her mothe\n",
      "urse better they long married eldest child born the father charge one italians \n",
      "stria known his property confiscated child became orphan beggar she continued f\n",
      "urned milan found playing hall villa child fairer pictured creature seemed shed\n",
      "r isaac newton said avowed felt like child picking shells beside great unexplor\n",
      "my father scientific i left struggle child blindness added student thirst knowl\n",
      "ons i come concerning early years as child i content results promised modern pr\n",
      " owe no father could claim gratitude child completely i deserve pursuing reflec\n",
      " horrible tidings william dead sweet child whose smiles delighted warmed heart \n",
      "s exclaimed o god i murdered darling child she fainted restored extreme difficu\n",
      "mpathy poor william said dear lovely child sleeps angel mother who seen bright \n",
      "bright summit mont blanc i wept like child dear mountains beautiful lake welcom\n",
      "ing human shape could destroyed fair child murderer i could doubt the mere pres\n",
      "ing perceived far spot body murdered child afterwards found the woman asked loo\n",
      "nquired passed night replied looking child demanded earnestly anything heard co\n",
      "lizabeth faltering voice proved hour child missed placed round neck murmur horr\n",
      "ne clock met man asked seen anything child lost she alarmed account passed seve\n",
      " address court i said cousin unhappy child murdered rather sister i educated li\n",
      "e beloved family she warmly attached child dead acted towards like affectionate\n"
     ]
    }
   ],
   "source": [
    "frank.concordance('child')"
   ]
  },
  {
   "cell_type": "code",
   "execution_count": null,
   "id": "95993dad",
   "metadata": {},
   "outputs": [],
   "source": []
  }
 ],
 "metadata": {
  "kernelspec": {
   "display_name": "Python 3",
   "language": "python",
   "name": "python3"
  },
  "language_info": {
   "codemirror_mode": {
    "name": "ipython",
    "version": 3
   },
   "file_extension": ".py",
   "mimetype": "text/x-python",
   "name": "python",
   "nbconvert_exporter": "python",
   "pygments_lexer": "ipython3",
   "version": "3.7.7"
  }
 },
 "nbformat": 4,
 "nbformat_minor": 5
}