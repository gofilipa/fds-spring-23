{
 "cells": [
  {
   "cell_type": "markdown",
   "id": "96758021",
   "metadata": {},
   "source": [
    "# Loops and Lists"
   ]
  },
  {
   "cell_type": "code",
   "execution_count": 1,
   "id": "47dd6edd",
   "metadata": {},
   "outputs": [],
   "source": [
    "# remember lists? Let's make a list of breakfast items\n",
    "\n",
    "breakfast = [\"nuts\", \"sausage\", \"hash browns\", \"fruit snacks\"]"
   ]
  },
  {
   "cell_type": "code",
   "execution_count": 2,
   "id": "b47635ce",
   "metadata": {},
   "outputs": [
    {
     "name": "stdout",
     "output_type": "stream",
     "text": [
      "nuts\n",
      "sausage\n",
      "hash browns\n",
      "fruit snacks\n"
     ]
    }
   ],
   "source": [
    "# syntax for a loop includes two lines\n",
    "# the first line identifies the variable name (for each item)\n",
    "# and the name of the list (or string) that we want to loop over\n",
    "# the second line instructs the loop what to do to each item\n",
    "\n",
    "for item in breakfast:\n",
    "    print(item)"
   ]
  },
  {
   "cell_type": "code",
   "execution_count": 3,
   "id": "45c89c31",
   "metadata": {},
   "outputs": [
    {
     "name": "stdout",
     "output_type": "stream",
     "text": [
      "H\n",
      "e\n",
      "l\n",
      "l\n",
      "o\n"
     ]
    }
   ],
   "source": [
    "# we can also loop through strings\n",
    "\n",
    "for letter in \"Hello\":\n",
    "    print(letter)"
   ]
  },
  {
   "cell_type": "code",
   "execution_count": 4,
   "id": "258de315",
   "metadata": {},
   "outputs": [
    {
     "name": "stdout",
     "output_type": "stream",
     "text": [
      "this\n",
      "is\n",
      "a\n",
      "sentence\n"
     ]
    }
   ],
   "source": [
    "# it doesn't matter what we name the variable, as long as we\n",
    "# are consistent in calling the same variable in the body \n",
    "# of the loop\n",
    "\n",
    "sentence = [\"this\", \"is\", \"a\", \"sentence\"]\n",
    "\n",
    "for letter in sentence:\n",
    "    print(letter)"
   ]
  },
  {
   "cell_type": "code",
   "execution_count": 5,
   "id": "1b248256",
   "metadata": {},
   "outputs": [
    {
     "name": "stdout",
     "output_type": "stream",
     "text": [
      "nuts is my favorite breakfast!\n",
      "sausage is my favorite breakfast!\n",
      "hash browns is my favorite breakfast!\n",
      "fruit snacks is my favorite breakfast!\n"
     ]
    }
   ],
   "source": [
    "# print out the phrase: [item] is my favorite breakfast!\n",
    "\n",
    "for item in breakfast:\n",
    "    print(f\"{item} is my favorite breakfast!\") \n",
    "    "
   ]
  },
  {
   "cell_type": "markdown",
   "id": "6887332a",
   "metadata": {},
   "source": [
    "## Group challenge: "
   ]
  },
  {
   "cell_type": "code",
   "execution_count": 6,
   "id": "1564f059",
   "metadata": {},
   "outputs": [
    {
     "name": "stdout",
     "output_type": "stream",
     "text": [
      "The sqaure of 2 is 4\n",
      "The sqaure of 3 is 9\n",
      "The sqaure of 5 is 25\n",
      "The sqaure of 7 is 49\n",
      "The sqaure of 11 is 121\n"
     ]
    }
   ],
   "source": [
    "# Write some code to print out the square of each of\n",
    "# these numbers:\n",
    "\n",
    "# you want the output to print as a string, like so:\n",
    "# \"The square of 2 is 4.\"\n",
    "# \"The square of 3 is 9.\"\n",
    "\n",
    "prime_numbers = [2, 3, 5, 7, 11]\n",
    "\n",
    "for item in prime_numbers:\n",
    "    print(f\"The sqaure of {item} is {item*item}\")\n",
    "\n",
    "# Hint: Remember that the square of a number is that number \n",
    "# times itself. Remember how to use \"f-strings\"."
   ]
  },
  {
   "cell_type": "code",
   "execution_count": null,
   "id": "4424742a",
   "metadata": {},
   "outputs": [],
   "source": []
  }
 ],
 "metadata": {
  "kernelspec": {
   "display_name": "Python 3",
   "language": "python",
   "name": "python3"
  },
  "language_info": {
   "codemirror_mode": {
    "name": "ipython",
    "version": 3
   },
   "file_extension": ".py",
   "mimetype": "text/x-python",
   "name": "python",
   "nbconvert_exporter": "python",
   "pygments_lexer": "ipython3",
   "version": "3.7.7"
  }
 },
 "nbformat": 4,
 "nbformat_minor": 5
}