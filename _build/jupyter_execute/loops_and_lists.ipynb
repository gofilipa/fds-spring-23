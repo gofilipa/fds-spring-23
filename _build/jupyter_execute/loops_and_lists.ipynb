{
 "cells": [
  {
   "cell_type": "markdown",
   "id": "1d915f87",
   "metadata": {},
   "source": [
    "# Loops and Lists"
   ]
  },
  {
   "cell_type": "code",
   "execution_count": 1,
   "id": "9ec508e2",
   "metadata": {},
   "outputs": [],
   "source": [
    "# remember lists? Let's make a list of breakfast items\n",
    "\n",
    "breakfast = [\"bread\", \"butter\", \"bec\", \"banana\"]"
   ]
  },
  {
   "cell_type": "code",
   "execution_count": 2,
   "id": "d04f97a0",
   "metadata": {},
   "outputs": [
    {
     "name": "stdout",
     "output_type": "stream",
     "text": [
      "bread\n",
      "butter\n",
      "bec\n",
      "banana\n"
     ]
    }
   ],
   "source": [
    "# syntax for a loop includes two lines\n",
    "# the first line identifies the variable name (for each item)\n",
    "# and the name of the list (or string) that we want to loop over\n",
    "# the second line instructs the loop what to do to each item\n",
    "\n",
    "for item in breakfast:\n",
    "    print(item)"
   ]
  },
  {
   "cell_type": "code",
   "execution_count": 3,
   "id": "36806aa1",
   "metadata": {},
   "outputs": [
    {
     "name": "stdout",
     "output_type": "stream",
     "text": [
      "H\n",
      "e\n",
      "l\n",
      "l\n",
      "o\n",
      " \n",
      "w\n",
      "o\n",
      "r\n",
      "l\n",
      "d\n",
      "!\n"
     ]
    }
   ],
   "source": [
    "# we can also loop through strings\n",
    "\n",
    "for letter in \"Hello world!\":\n",
    "    print(letter)"
   ]
  },
  {
   "cell_type": "code",
   "execution_count": 4,
   "id": "d81aedea",
   "metadata": {},
   "outputs": [
    {
     "name": "stdout",
     "output_type": "stream",
     "text": [
      "this\n",
      "is\n",
      "a\n",
      "sentence\n"
     ]
    }
   ],
   "source": [
    "# it doesn't matter what we name the variable, as long as we\n",
    "# are consistent in calling the same variable in the body \n",
    "# of the loop\n",
    "\n",
    "sentence = [\"this\", \"is\", \"a\", \"sentence\"]\n",
    "\n",
    "for letter in sentence:\n",
    "    print(letter)"
   ]
  },
  {
   "cell_type": "code",
   "execution_count": 5,
   "id": "93370f4d",
   "metadata": {},
   "outputs": [
    {
     "name": "stdout",
     "output_type": "stream",
     "text": [
      "bread is my favorite breakfast!\n",
      "butter is my favorite breakfast!\n",
      "bec is my favorite breakfast!\n",
      "banana is my favorite breakfast!\n"
     ]
    }
   ],
   "source": [
    "# print out the phrase: [item] is my favorite breakfast!\n",
    "\n",
    "for item in breakfast:\n",
    "    print(f\"{item} is my favorite breakfast!\") \n",
    "    "
   ]
  },
  {
   "cell_type": "markdown",
   "id": "8dd5491f",
   "metadata": {},
   "source": [
    "## Group challenge: "
   ]
  },
  {
   "cell_type": "code",
   "execution_count": 6,
   "id": "dcb5fe5a",
   "metadata": {},
   "outputs": [
    {
     "name": "stdout",
     "output_type": "stream",
     "text": [
      "The sqaure of 2 is 4\n",
      "The sqaure of 3 is 9\n",
      "The sqaure of 5 is 25\n",
      "The sqaure of 7 is 49\n",
      "The sqaure of 11 is 121\n"
     ]
    }
   ],
   "source": [
    "# Write some code to print out the square of each of\n",
    "# these numbers:\n",
    "\n",
    "# you want the output to print as a string, like so:\n",
    "# \"The square of 2 is 4.\"\n",
    "# \"The square of 3 is 9.\"\n",
    "\n",
    "prime_numbers = [2, 3, 5, 7, 11]\n",
    "\n",
    "for item in prime_numbers:\n",
    "    print(f\"The sqaure of {item} is {item*item}\")\n",
    "\n",
    "# Hint: Remember that the square of a number is that number \n",
    "# times itself. Remember how to use \"f-strings\"."
   ]
  },
  {
   "cell_type": "markdown",
   "id": "48d1bcb6",
   "metadata": {},
   "source": [
    "## Lists"
   ]
  },
  {
   "cell_type": "code",
   "execution_count": 7,
   "id": "ed768b34",
   "metadata": {},
   "outputs": [],
   "source": [
    "movies = [\"Avatar\", \"Nope\", \"Up\", \"The Cat in the Hat\", \"The Incredibles\"]"
   ]
  },
  {
   "cell_type": "code",
   "execution_count": 8,
   "id": "63d0b9a3",
   "metadata": {},
   "outputs": [
    {
     "data": {
      "text/plain": [
       "5"
      ]
     },
     "execution_count": 8,
     "metadata": {},
     "output_type": "execute_result"
    }
   ],
   "source": [
    "len(movies)"
   ]
  },
  {
   "cell_type": "code",
   "execution_count": 9,
   "id": "791e3453",
   "metadata": {},
   "outputs": [
    {
     "data": {
      "text/plain": [
       "4"
      ]
     },
     "execution_count": 9,
     "metadata": {},
     "output_type": "execute_result"
    }
   ],
   "source": [
    "len(breakfast)"
   ]
  },
  {
   "cell_type": "code",
   "execution_count": 10,
   "id": "940504ee",
   "metadata": {},
   "outputs": [
    {
     "name": "stdout",
     "output_type": "stream",
     "text": [
      "\n"
     ]
    },
    {
     "ename": "TypeError",
     "evalue": "len() takes exactly one argument (0 given)",
     "output_type": "error",
     "traceback": [
      "\u001b[0;31m---------------------------------------------------------------------------\u001b[0m",
      "\u001b[0;31mTypeError\u001b[0m                                 Traceback (most recent call last)",
      "\u001b[0;32m<ipython-input-10-cce4c5ba482f>\u001b[0m in \u001b[0;36m<module>\u001b[0;34m\u001b[0m\n\u001b[1;32m      2\u001b[0m \u001b[0;34m\u001b[0m\u001b[0m\n\u001b[1;32m      3\u001b[0m \u001b[0mprint\u001b[0m\u001b[0;34m(\u001b[0m\u001b[0;34m)\u001b[0m\u001b[0;34m\u001b[0m\u001b[0;34m\u001b[0m\u001b[0m\n\u001b[0;32m----> 4\u001b[0;31m \u001b[0mlen\u001b[0m\u001b[0;34m(\u001b[0m\u001b[0;34m)\u001b[0m\u001b[0;34m\u001b[0m\u001b[0;34m\u001b[0m\u001b[0m\n\u001b[0m\u001b[1;32m      5\u001b[0m \u001b[0mtype\u001b[0m\u001b[0;34m(\u001b[0m\u001b[0;34m)\u001b[0m\u001b[0;34m\u001b[0m\u001b[0;34m\u001b[0m\u001b[0m\n\u001b[1;32m      6\u001b[0m \u001b[0;31m# this is a method, not a function: breakfast.upper()\u001b[0m\u001b[0;34m\u001b[0m\u001b[0;34m\u001b[0m\u001b[0;34m\u001b[0m\u001b[0m\n",
      "\u001b[0;31mTypeError\u001b[0m: len() takes exactly one argument (0 given)"
     ]
    }
   ],
   "source": [
    "# for reference, these are functions we already have been using:\n",
    "\n",
    "print()\n",
    "len()\n",
    "type()\n",
    "# this is a method, not a function: breakfast.upper()"
   ]
  },
  {
   "cell_type": "code",
   "execution_count": 17,
   "id": "1b71781f",
   "metadata": {},
   "outputs": [
    {
     "name": "stdout",
     "output_type": "stream",
     "text": [
      "5\n"
     ]
    }
   ],
   "source": [
    "movies = [\"Avatar\", \"Nope\", \"Up\", \"The Cat in the Hat\", \"The Incredibles\"]\n",
    "movies_length = len(movies)\n",
    "print(movies_length)"
   ]
  },
  {
   "cell_type": "code",
   "execution_count": 22,
   "id": "23ec7fe9",
   "metadata": {},
   "outputs": [
    {
     "name": "stdout",
     "output_type": "stream",
     "text": [
      "5\n"
     ]
    }
   ],
   "source": [
    "# this does the same thing as the code above, but less readable (imo)\n",
    "print(len(movies))"
   ]
  },
  {
   "cell_type": "code",
   "execution_count": 2,
   "id": "127d5ade",
   "metadata": {},
   "outputs": [
    {
     "data": {
      "text/plain": [
       "'Avatar'"
      ]
     },
     "execution_count": 2,
     "metadata": {},
     "output_type": "execute_result"
    }
   ],
   "source": [
    "# list indexing\n",
    "movies = [\"Avatar\", \"Nope\", \"Up\", \"The Cat in the Hat\", \"The Incredibles\"]\n",
    "\n",
    "movies[0]"
   ]
  },
  {
   "cell_type": "code",
   "execution_count": 3,
   "id": "85d01ff6",
   "metadata": {},
   "outputs": [
    {
     "data": {
      "text/plain": [
       "'Nope'"
      ]
     },
     "execution_count": 3,
     "metadata": {},
     "output_type": "execute_result"
    }
   ],
   "source": [
    "movies[1]"
   ]
  },
  {
   "cell_type": "code",
   "execution_count": 23,
   "id": "65232ef8",
   "metadata": {},
   "outputs": [
    {
     "data": {
      "text/plain": [
       "'The Cat in the Hat'"
      ]
     },
     "execution_count": 23,
     "metadata": {},
     "output_type": "execute_result"
    }
   ],
   "source": [
    "movies[3]"
   ]
  },
  {
   "cell_type": "code",
   "execution_count": 24,
   "id": "e31c459e",
   "metadata": {},
   "outputs": [
    {
     "data": {
      "text/plain": [
       "'The Incredibles'"
      ]
     },
     "execution_count": 24,
     "metadata": {},
     "output_type": "execute_result"
    }
   ],
   "source": [
    "movies[-1]"
   ]
  },
  {
   "cell_type": "code",
   "execution_count": 25,
   "id": "6a28ba17",
   "metadata": {},
   "outputs": [
    {
     "data": {
      "text/plain": [
       "'Up'"
      ]
     },
     "execution_count": 25,
     "metadata": {},
     "output_type": "execute_result"
    }
   ],
   "source": [
    "movies[-3]"
   ]
  },
  {
   "cell_type": "code",
   "execution_count": 26,
   "id": "dcf25e20",
   "metadata": {},
   "outputs": [
    {
     "data": {
      "text/plain": [
       "'Avatar'"
      ]
     },
     "execution_count": 26,
     "metadata": {},
     "output_type": "execute_result"
    }
   ],
   "source": [
    "movies[-5]"
   ]
  },
  {
   "cell_type": "code",
   "execution_count": 27,
   "id": "672b2ebf",
   "metadata": {},
   "outputs": [
    {
     "ename": "IndexError",
     "evalue": "list index out of range",
     "output_type": "error",
     "traceback": [
      "\u001b[0;31m---------------------------------------------------------------------------\u001b[0m",
      "\u001b[0;31mIndexError\u001b[0m                                Traceback (most recent call last)",
      "\u001b[0;32m<ipython-input-27-2b846fbb82e9>\u001b[0m in \u001b[0;36m<module>\u001b[0;34m\u001b[0m\n\u001b[0;32m----> 1\u001b[0;31m \u001b[0mmovies\u001b[0m\u001b[0;34m[\u001b[0m\u001b[0;34m-\u001b[0m\u001b[0;36m6\u001b[0m\u001b[0;34m]\u001b[0m\u001b[0;34m\u001b[0m\u001b[0;34m\u001b[0m\u001b[0m\n\u001b[0m",
      "\u001b[0;31mIndexError\u001b[0m: list index out of range"
     ]
    }
   ],
   "source": [
    "# common error with list indexing is going too far, out of the range of the list.\n",
    "\n",
    "movies[-6]"
   ]
  },
  {
   "cell_type": "code",
   "execution_count": 4,
   "id": "25a08d2b",
   "metadata": {},
   "outputs": [
    {
     "data": {
      "text/plain": [
       "['Nope', 'Up']"
      ]
     },
     "execution_count": 4,
     "metadata": {},
     "output_type": "execute_result"
    }
   ],
   "source": [
    "movies = [\"Avatar\", \"Nope\", \"Up\", \"The Cat in the Hat\", \"The Incredibles\"]\n",
    "\n",
    "movies[1:3]"
   ]
  },
  {
   "cell_type": "code",
   "execution_count": 9,
   "id": "94a78b7c",
   "metadata": {},
   "outputs": [
    {
     "data": {
      "text/plain": [
       "['Up', 'The Cat in the Hat', 'The Incredibles']"
      ]
     },
     "execution_count": 9,
     "metadata": {},
     "output_type": "execute_result"
    }
   ],
   "source": [
    "# in a list slice, the first term is inclusive\n",
    "# and the second term is exclusive\n",
    "\n",
    "movies[2:5]"
   ]
  },
  {
   "cell_type": "code",
   "execution_count": 12,
   "id": "29cc408f",
   "metadata": {},
   "outputs": [
    {
     "data": {
      "text/plain": [
       "'llo-'"
      ]
     },
     "execution_count": 12,
     "metadata": {},
     "output_type": "execute_result"
    }
   ],
   "source": [
    "# this also works with strings\n",
    "\n",
    "\"hello-world\"[2:6]"
   ]
  },
  {
   "cell_type": "code",
   "execution_count": 18,
   "id": "be0df78e",
   "metadata": {},
   "outputs": [
    {
     "data": {
      "text/plain": [
       "['Avatar', 'Nope', 'Up']"
      ]
     },
     "execution_count": 18,
     "metadata": {},
     "output_type": "execute_result"
    }
   ],
   "source": [
    "# the colon takes everything to the left or the right, depending on where the colon is placed\n",
    "movies[:3]"
   ]
  },
  {
   "cell_type": "code",
   "execution_count": 19,
   "id": "6b8a7de1",
   "metadata": {},
   "outputs": [
    {
     "data": {
      "text/plain": [
       "['The Cat in the Hat', 'The Incredibles']"
      ]
     },
     "execution_count": 19,
     "metadata": {},
     "output_type": "execute_result"
    }
   ],
   "source": [
    "movies[3:]"
   ]
  },
  {
   "cell_type": "markdown",
   "id": "656f9bd3",
   "metadata": {},
   "source": [
    "## Group challenge \n",
    "Create a new list of books, with at least 5 books in your\n",
    "list. Make sure the total number of books in the list is an odd\n",
    "number.\n",
    "How do you print out the book in the middle of the list?\n",
    "\n",
    "What about the three books in the middle? Remember that the\n",
    "first value in a slice is inclusive, and the final value is\n",
    "exclusive.\n"
   ]
  },
  {
   "cell_type": "code",
   "execution_count": 20,
   "id": "4e9b7994",
   "metadata": {},
   "outputs": [],
   "source": [
    "# first create a list\n",
    "books = [\"harry potter\", \"jane eyre\", \"percy jackson\", \"social credit\", \"hands-on python\"]"
   ]
  },
  {
   "cell_type": "code",
   "execution_count": 22,
   "id": "13dae965",
   "metadata": {},
   "outputs": [
    {
     "data": {
      "text/plain": [
       "'percy jackson'"
      ]
     },
     "execution_count": 22,
     "metadata": {},
     "output_type": "execute_result"
    }
   ],
   "source": [
    "# grabs the third item (which is set to #2 on the list)\n",
    "books[2]"
   ]
  },
  {
   "cell_type": "code",
   "execution_count": 23,
   "id": "74002e49",
   "metadata": {},
   "outputs": [
    {
     "data": {
      "text/plain": [
       "['jane eyre', 'percy jackson', 'social credit']"
      ]
     },
     "execution_count": 23,
     "metadata": {},
     "output_type": "execute_result"
    }
   ],
   "source": [
    "# takes a slice of the middle three items, from 1 to 3 (doesn't include 4). \n",
    "books[1:4]"
   ]
  },
  {
   "cell_type": "code",
   "execution_count": null,
   "id": "5c393745",
   "metadata": {},
   "outputs": [],
   "source": []
  }
 ],
 "metadata": {
  "kernelspec": {
   "display_name": "Python 3",
   "language": "python",
   "name": "python3"
  },
  "language_info": {
   "codemirror_mode": {
    "name": "ipython",
    "version": 3
   },
   "file_extension": ".py",
   "mimetype": "text/x-python",
   "name": "python",
   "nbconvert_exporter": "python",
   "pygments_lexer": "ipython3",
   "version": "3.7.7"
  }
 },
 "nbformat": 4,
 "nbformat_minor": 5
}