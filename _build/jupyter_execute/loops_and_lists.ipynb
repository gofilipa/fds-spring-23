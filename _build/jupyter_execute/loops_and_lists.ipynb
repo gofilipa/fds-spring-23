{
 "cells": [
  {
   "cell_type": "markdown",
   "id": "49f2df30",
   "metadata": {},
   "source": [
    "# Loops and Lists"
   ]
  },
  {
   "cell_type": "code",
   "execution_count": 1,
   "id": "1004ec1e",
   "metadata": {},
   "outputs": [],
   "source": [
    "# remember lists? Let's make a list of breakfast items\n",
    "\n",
    "breakfast = [\"bread\", \"butter\", \"bec\", \"banana\"]"
   ]
  },
  {
   "cell_type": "code",
   "execution_count": 2,
   "id": "0526e125",
   "metadata": {},
   "outputs": [
    {
     "name": "stdout",
     "output_type": "stream",
     "text": [
      "bread\n",
      "butter\n",
      "bec\n",
      "banana\n"
     ]
    }
   ],
   "source": [
    "# syntax for a loop includes two lines\n",
    "# the first line identifies the variable name (for each item)\n",
    "# and the name of the list (or string) that we want to loop over\n",
    "# the second line instructs the loop what to do to each item\n",
    "\n",
    "for item in breakfast:\n",
    "    print(item)"
   ]
  },
  {
   "cell_type": "code",
   "execution_count": 3,
   "id": "807345c7",
   "metadata": {},
   "outputs": [
    {
     "name": "stdout",
     "output_type": "stream",
     "text": [
      "H\n",
      "e\n",
      "l\n",
      "l\n",
      "o\n",
      " \n",
      "w\n",
      "o\n",
      "r\n",
      "l\n",
      "d\n",
      "!\n"
     ]
    }
   ],
   "source": [
    "# we can also loop through strings\n",
    "\n",
    "for letter in \"Hello world!\":\n",
    "    print(letter)"
   ]
  },
  {
   "cell_type": "code",
   "execution_count": 4,
   "id": "66565914",
   "metadata": {},
   "outputs": [
    {
     "name": "stdout",
     "output_type": "stream",
     "text": [
      "this\n",
      "is\n",
      "a\n",
      "sentence\n"
     ]
    }
   ],
   "source": [
    "# it doesn't matter what we name the variable, as long as we\n",
    "# are consistent in calling the same variable in the body \n",
    "# of the loop\n",
    "\n",
    "sentence = [\"this\", \"is\", \"a\", \"sentence\"]\n",
    "\n",
    "for letter in sentence:\n",
    "    print(letter)"
   ]
  },
  {
   "cell_type": "code",
   "execution_count": 5,
   "id": "c6b3bdd7",
   "metadata": {},
   "outputs": [
    {
     "name": "stdout",
     "output_type": "stream",
     "text": [
      "bread is my favorite breakfast!\n",
      "butter is my favorite breakfast!\n",
      "bec is my favorite breakfast!\n",
      "banana is my favorite breakfast!\n"
     ]
    }
   ],
   "source": [
    "# print out the phrase: [item] is my favorite breakfast!\n",
    "\n",
    "for item in breakfast:\n",
    "    print(f\"{item} is my favorite breakfast!\") \n",
    "    "
   ]
  },
  {
   "cell_type": "markdown",
   "id": "b2164faf",
   "metadata": {},
   "source": [
    "## Group challenge: "
   ]
  },
  {
   "cell_type": "code",
   "execution_count": 6,
   "id": "643a2bbe",
   "metadata": {},
   "outputs": [
    {
     "name": "stdout",
     "output_type": "stream",
     "text": [
      "The sqaure of 2 is 4\n",
      "The sqaure of 3 is 9\n",
      "The sqaure of 5 is 25\n",
      "The sqaure of 7 is 49\n",
      "The sqaure of 11 is 121\n"
     ]
    }
   ],
   "source": [
    "# Write some code to print out the square of each of\n",
    "# these numbers:\n",
    "\n",
    "# you want the output to print as a string, like so:\n",
    "# \"The square of 2 is 4.\"\n",
    "# \"The square of 3 is 9.\"\n",
    "\n",
    "prime_numbers = [2, 3, 5, 7, 11]\n",
    "\n",
    "for item in prime_numbers:\n",
    "    print(f\"The sqaure of {item} is {item*item}\")\n",
    "\n",
    "# Hint: Remember that the square of a number is that number \n",
    "# times itself. Remember how to use \"f-strings\"."
   ]
  },
  {
   "cell_type": "markdown",
   "id": "f0ca9450",
   "metadata": {},
   "source": [
    "## Lists"
   ]
  },
  {
   "cell_type": "code",
   "execution_count": 7,
   "id": "8c0cfeaf",
   "metadata": {},
   "outputs": [],
   "source": [
    "movies = [\"Avatar\", \"Nope\", \"Up\", \"The Cat in the Hat\", \"The Incredibles\"]"
   ]
  },
  {
   "cell_type": "code",
   "execution_count": 8,
   "id": "f447036d",
   "metadata": {},
   "outputs": [
    {
     "data": {
      "text/plain": [
       "5"
      ]
     },
     "execution_count": 8,
     "metadata": {},
     "output_type": "execute_result"
    }
   ],
   "source": [
    "len(movies)"
   ]
  },
  {
   "cell_type": "code",
   "execution_count": 9,
   "id": "9381a5be",
   "metadata": {},
   "outputs": [
    {
     "data": {
      "text/plain": [
       "4"
      ]
     },
     "execution_count": 9,
     "metadata": {},
     "output_type": "execute_result"
    }
   ],
   "source": [
    "len(breakfast)"
   ]
  },
  {
   "cell_type": "code",
   "execution_count": 10,
   "id": "39af3017",
   "metadata": {},
   "outputs": [
    {
     "name": "stdout",
     "output_type": "stream",
     "text": [
      "\n"
     ]
    },
    {
     "ename": "TypeError",
     "evalue": "len() takes exactly one argument (0 given)",
     "output_type": "error",
     "traceback": [
      "\u001b[0;31m---------------------------------------------------------------------------\u001b[0m",
      "\u001b[0;31mTypeError\u001b[0m                                 Traceback (most recent call last)",
      "Cell \u001b[0;32mIn[10], line 4\u001b[0m\n\u001b[1;32m      1\u001b[0m \u001b[38;5;66;03m# for reference, these are functions we already have been using:\u001b[39;00m\n\u001b[1;32m      3\u001b[0m \u001b[38;5;28mprint\u001b[39m()\n\u001b[0;32m----> 4\u001b[0m \u001b[38;5;28mlen\u001b[39m()\n\u001b[1;32m      5\u001b[0m \u001b[38;5;28mtype\u001b[39m()\n",
      "\u001b[0;31mTypeError\u001b[0m: len() takes exactly one argument (0 given)"
     ]
    }
   ],
   "source": [
    "# for reference, these are functions we already have been using:\n",
    "\n",
    "print()\n",
    "len()\n",
    "type()\n",
    "# this is a method, not a function: breakfast.upper()"
   ]
  },
  {
   "cell_type": "code",
   "execution_count": null,
   "id": "dec0f6bf",
   "metadata": {},
   "outputs": [],
   "source": [
    "movies = [\"Avatar\", \"Nope\", \"Up\", \"The Cat in the Hat\", \"The Incredibles\"]\n",
    "movies_length = len(movies)\n",
    "print(movies_length)"
   ]
  },
  {
   "cell_type": "code",
   "execution_count": null,
   "id": "517385e3",
   "metadata": {},
   "outputs": [],
   "source": [
    "# this does the same thing as the code above, but less readable (imo)\n",
    "print(len(movies))"
   ]
  },
  {
   "cell_type": "code",
   "execution_count": 1,
   "id": "d90b97da",
   "metadata": {},
   "outputs": [
    {
     "data": {
      "text/plain": [
       "'Avatar'"
      ]
     },
     "execution_count": 1,
     "metadata": {},
     "output_type": "execute_result"
    }
   ],
   "source": [
    "# list indexing\n",
    "movies = [\"Avatar\", \"Nope\", \"Up\", \"The Cat in the Hat\", \"The Incredibles\"]\n",
    "\n",
    "movies[0]"
   ]
  },
  {
   "cell_type": "code",
   "execution_count": 2,
   "id": "e8ec795d",
   "metadata": {},
   "outputs": [
    {
     "data": {
      "text/plain": [
       "'Nope'"
      ]
     },
     "execution_count": 2,
     "metadata": {},
     "output_type": "execute_result"
    }
   ],
   "source": [
    "movies[1]"
   ]
  },
  {
   "cell_type": "code",
   "execution_count": 3,
   "id": "9ebb1001",
   "metadata": {},
   "outputs": [
    {
     "data": {
      "text/plain": [
       "'The Cat in the Hat'"
      ]
     },
     "execution_count": 3,
     "metadata": {},
     "output_type": "execute_result"
    }
   ],
   "source": [
    "movies[3]"
   ]
  },
  {
   "cell_type": "code",
   "execution_count": 4,
   "id": "a8402b89",
   "metadata": {},
   "outputs": [
    {
     "data": {
      "text/plain": [
       "'The Incredibles'"
      ]
     },
     "execution_count": 4,
     "metadata": {},
     "output_type": "execute_result"
    }
   ],
   "source": [
    "movies[-1]"
   ]
  },
  {
   "cell_type": "code",
   "execution_count": 5,
   "id": "7b6b8c45",
   "metadata": {},
   "outputs": [
    {
     "data": {
      "text/plain": [
       "'Up'"
      ]
     },
     "execution_count": 5,
     "metadata": {},
     "output_type": "execute_result"
    }
   ],
   "source": [
    "movies[-3]"
   ]
  },
  {
   "cell_type": "code",
   "execution_count": null,
   "id": "c3eb2992",
   "metadata": {},
   "outputs": [],
   "source": [
    "movies[-5]"
   ]
  },
  {
   "cell_type": "code",
   "execution_count": null,
   "id": "1ea80154",
   "metadata": {},
   "outputs": [],
   "source": [
    "# common error with list indexing is going too far, out of the range of the list.\n",
    "\n",
    "movies[-6]"
   ]
  },
  {
   "cell_type": "code",
   "execution_count": 6,
   "id": "9640d330",
   "metadata": {},
   "outputs": [
    {
     "data": {
      "text/plain": [
       "['Nope', 'Up']"
      ]
     },
     "execution_count": 6,
     "metadata": {},
     "output_type": "execute_result"
    }
   ],
   "source": [
    "movies = [\"Avatar\", \"Nope\", \"Up\", \"The Cat in the Hat\", \"The Incredibles\"]\n",
    "\n",
    "movies[1:3]"
   ]
  },
  {
   "cell_type": "code",
   "execution_count": 7,
   "id": "19185272",
   "metadata": {},
   "outputs": [
    {
     "data": {
      "text/plain": [
       "['Up', 'The Cat in the Hat', 'The Incredibles']"
      ]
     },
     "execution_count": 7,
     "metadata": {},
     "output_type": "execute_result"
    }
   ],
   "source": [
    "# in a list slice, the first term is inclusive\n",
    "# and the second term is exclusive\n",
    "\n",
    "movies[2:5]"
   ]
  },
  {
   "cell_type": "code",
   "execution_count": 8,
   "id": "fd1c70bf",
   "metadata": {},
   "outputs": [
    {
     "data": {
      "text/plain": [
       "'llo-'"
      ]
     },
     "execution_count": 8,
     "metadata": {},
     "output_type": "execute_result"
    }
   ],
   "source": [
    "# this also works with strings\n",
    "\n",
    "\"hello-world\"[2:6]"
   ]
  },
  {
   "cell_type": "code",
   "execution_count": null,
   "id": "bf8e8d96",
   "metadata": {},
   "outputs": [],
   "source": [
    "# the colon takes everything to the left or the right, depending on where the colon is placed\n",
    "movies[:3]"
   ]
  },
  {
   "cell_type": "code",
   "execution_count": null,
   "id": "daba92c6",
   "metadata": {},
   "outputs": [],
   "source": [
    "movies[3:]"
   ]
  },
  {
   "cell_type": "markdown",
   "id": "a574821b",
   "metadata": {},
   "source": [
    "## Group challenge \n",
    "Create a new list of books, with at least 5 books in your\n",
    "list. Make sure the total number of books in the list is an odd\n",
    "number.\n",
    "How do you print out the book in the middle of the list?\n",
    "\n",
    "What about the three books in the middle? Remember that the\n",
    "first value in a slice is inclusive, and the final value is\n",
    "exclusive.\n"
   ]
  },
  {
   "cell_type": "code",
   "execution_count": null,
   "id": "6bdadb66",
   "metadata": {},
   "outputs": [],
   "source": [
    "# first create a list\n",
    "books = [\"harry potter\", \"jane eyre\", \"percy jackson\", \"social credit\", \"hands-on python\"]"
   ]
  },
  {
   "cell_type": "code",
   "execution_count": null,
   "id": "5dd3e3e2",
   "metadata": {},
   "outputs": [],
   "source": [
    "# grabs the third item (which is set to #2 on the list)\n",
    "books[2]"
   ]
  },
  {
   "cell_type": "code",
   "execution_count": null,
   "id": "a53761dc",
   "metadata": {},
   "outputs": [],
   "source": [
    "# takes a slice of the middle three items, from 1 to 3 (doesn't include 4). \n",
    "books[1:4]"
   ]
  },
  {
   "cell_type": "markdown",
   "id": "ce2be085",
   "metadata": {},
   "source": [
    "## List methods"
   ]
  },
  {
   "cell_type": "code",
   "execution_count": 9,
   "id": "34698de4",
   "metadata": {},
   "outputs": [
    {
     "data": {
      "text/plain": [
       "'HELLO'"
      ]
     },
     "execution_count": 9,
     "metadata": {},
     "output_type": "execute_result"
    }
   ],
   "source": [
    "# methods are attached to objects\n",
    "\n",
    "'hello'.upper()"
   ]
  },
  {
   "cell_type": "code",
   "execution_count": 10,
   "id": "d93ccd63",
   "metadata": {},
   "outputs": [
    {
     "data": {
      "text/plain": [
       "str"
      ]
     },
     "execution_count": 10,
     "metadata": {},
     "output_type": "execute_result"
    }
   ],
   "source": [
    "# functions take data that is passed into them. \n",
    "\n",
    "type('hello')"
   ]
  },
  {
   "cell_type": "code",
   "execution_count": 11,
   "id": "481e9a8a",
   "metadata": {},
   "outputs": [
    {
     "ename": "NameError",
     "evalue": "name 'upper' is not defined",
     "output_type": "error",
     "traceback": [
      "\u001b[0;31m---------------------------------------------------------------------------\u001b[0m",
      "\u001b[0;31mNameError\u001b[0m                                 Traceback (most recent call last)",
      "\u001b[0;32m<ipython-input-11-bc4efc3cc90a>\u001b[0m in \u001b[0;36m<module>\u001b[0;34m\u001b[0m\n\u001b[0;32m----> 1\u001b[0;31m \u001b[0mupper\u001b[0m\u001b[0;34m(\u001b[0m\u001b[0;34m'hello'\u001b[0m\u001b[0;34m)\u001b[0m\u001b[0;34m\u001b[0m\u001b[0;34m\u001b[0m\u001b[0m\n\u001b[0m",
      "\u001b[0;31mNameError\u001b[0m: name 'upper' is not defined"
     ]
    }
   ],
   "source": [
    "# python won't recognize \"upper\" as a function, only as a method.\n",
    "\n",
    "upper('hello')"
   ]
  },
  {
   "cell_type": "code",
   "execution_count": 14,
   "id": "d32825f5",
   "metadata": {},
   "outputs": [
    {
     "data": {
      "text/plain": [
       "['Avatar', 'Nope', 'The Cat in the Hat', 'The Incredibles', 'Up']"
      ]
     },
     "execution_count": 14,
     "metadata": {},
     "output_type": "execute_result"
    }
   ],
   "source": [
    "movies.sort()\n",
    "movies"
   ]
  },
  {
   "cell_type": "code",
   "execution_count": 15,
   "id": "9fd3cad0",
   "metadata": {},
   "outputs": [],
   "source": [
    "movies.append('Ant Man 3')"
   ]
  },
  {
   "cell_type": "code",
   "execution_count": 16,
   "id": "bf9db10b",
   "metadata": {},
   "outputs": [
    {
     "data": {
      "text/plain": [
       "['Avatar', 'Nope', 'The Cat in the Hat', 'The Incredibles', 'Up', 'Ant Man 3']"
      ]
     },
     "execution_count": 16,
     "metadata": {},
     "output_type": "execute_result"
    }
   ],
   "source": [
    "movies"
   ]
  },
  {
   "cell_type": "code",
   "execution_count": 17,
   "id": "d38648bf",
   "metadata": {},
   "outputs": [],
   "source": [
    "movies.sort()"
   ]
  },
  {
   "cell_type": "code",
   "execution_count": 18,
   "id": "870cc55c",
   "metadata": {},
   "outputs": [
    {
     "data": {
      "text/plain": [
       "['Ant Man 3', 'Avatar', 'Nope', 'The Cat in the Hat', 'The Incredibles', 'Up']"
      ]
     },
     "execution_count": 18,
     "metadata": {},
     "output_type": "execute_result"
    }
   ],
   "source": [
    "movies"
   ]
  },
  {
   "cell_type": "code",
   "execution_count": 21,
   "id": "62ec7727",
   "metadata": {},
   "outputs": [
    {
     "data": {
      "text/plain": [
       "'Up'"
      ]
     },
     "execution_count": 21,
     "metadata": {},
     "output_type": "execute_result"
    }
   ],
   "source": [
    "movies.pop()"
   ]
  },
  {
   "cell_type": "code",
   "execution_count": 22,
   "id": "ba453d4b",
   "metadata": {},
   "outputs": [
    {
     "data": {
      "text/plain": [
       "['Ant Man 3', 'Avatar', 'Nope', 'The Cat in the Hat', 'The Incredibles']"
      ]
     },
     "execution_count": 22,
     "metadata": {},
     "output_type": "execute_result"
    }
   ],
   "source": [
    "movies"
   ]
  },
  {
   "cell_type": "code",
   "execution_count": 23,
   "id": "8c877e18",
   "metadata": {},
   "outputs": [
    {
     "ename": "AttributeError",
     "evalue": "'str' object has no attribute 'pop'",
     "output_type": "error",
     "traceback": [
      "\u001b[0;31m---------------------------------------------------------------------------\u001b[0m",
      "\u001b[0;31mAttributeError\u001b[0m                            Traceback (most recent call last)",
      "\u001b[0;32m<ipython-input-23-60c039e1ab30>\u001b[0m in \u001b[0;36m<module>\u001b[0;34m\u001b[0m\n\u001b[0;32m----> 1\u001b[0;31m \u001b[0;34m'hello'\u001b[0m\u001b[0;34m.\u001b[0m\u001b[0mpop\u001b[0m\u001b[0;34m(\u001b[0m\u001b[0;34m)\u001b[0m\u001b[0;34m\u001b[0m\u001b[0;34m\u001b[0m\u001b[0m\n\u001b[0m",
      "\u001b[0;31mAttributeError\u001b[0m: 'str' object has no attribute 'pop'"
     ]
    }
   ],
   "source": [
    "'hello'.pop()"
   ]
  },
  {
   "cell_type": "code",
   "execution_count": 24,
   "id": "20f88dc2",
   "metadata": {},
   "outputs": [],
   "source": [
    "tv_shows = ['The last of us', 'The simpsons', 'Modern family', 'Spongebob', 'South Park']"
   ]
  },
  {
   "cell_type": "code",
   "execution_count": 25,
   "id": "2cc395ed",
   "metadata": {},
   "outputs": [],
   "source": [
    "movies.extend(tv_shows)"
   ]
  },
  {
   "cell_type": "code",
   "execution_count": 26,
   "id": "caf7e893",
   "metadata": {},
   "outputs": [
    {
     "data": {
      "text/plain": [
       "['Ant Man 3',\n",
       " 'Avatar',\n",
       " 'Nope',\n",
       " 'The Cat in the Hat',\n",
       " 'The Incredibles',\n",
       " 'The last of us',\n",
       " 'The simpsons',\n",
       " 'Modern family',\n",
       " 'Spongebob',\n",
       " 'South Park']"
      ]
     },
     "execution_count": 26,
     "metadata": {},
     "output_type": "execute_result"
    }
   ],
   "source": [
    "movies"
   ]
  },
  {
   "cell_type": "code",
   "execution_count": 27,
   "id": "4c734c60",
   "metadata": {},
   "outputs": [],
   "source": [
    "movies.reverse()"
   ]
  },
  {
   "cell_type": "code",
   "execution_count": 28,
   "id": "53283cd6",
   "metadata": {},
   "outputs": [
    {
     "data": {
      "text/plain": [
       "['South Park',\n",
       " 'Spongebob',\n",
       " 'Modern family',\n",
       " 'The simpsons',\n",
       " 'The last of us',\n",
       " 'The Incredibles',\n",
       " 'The Cat in the Hat',\n",
       " 'Nope',\n",
       " 'Avatar',\n",
       " 'Ant Man 3']"
      ]
     },
     "execution_count": 28,
     "metadata": {},
     "output_type": "execute_result"
    }
   ],
   "source": [
    "movies"
   ]
  },
  {
   "cell_type": "code",
   "execution_count": 30,
   "id": "38b47d39",
   "metadata": {},
   "outputs": [],
   "source": [
    "movies.remove('Spongebob')"
   ]
  },
  {
   "cell_type": "code",
   "execution_count": 31,
   "id": "ec1e2b74",
   "metadata": {},
   "outputs": [
    {
     "data": {
      "text/plain": [
       "['South Park',\n",
       " 'Modern family',\n",
       " 'The simpsons',\n",
       " 'The last of us',\n",
       " 'The Incredibles',\n",
       " 'The Cat in the Hat',\n",
       " 'Nope',\n",
       " 'Avatar',\n",
       " 'Ant Man 3']"
      ]
     },
     "execution_count": 31,
     "metadata": {},
     "output_type": "execute_result"
    }
   ],
   "source": [
    "movies"
   ]
  },
  {
   "cell_type": "code",
   "execution_count": 36,
   "id": "309a66dc",
   "metadata": {},
   "outputs": [],
   "source": [
    "# professor to work on this later\n",
    "for item in movies:\n",
    "    if item in tv_shows:\n",
    "        movies.remove(item)"
   ]
  },
  {
   "cell_type": "code",
   "execution_count": 34,
   "id": "989c2407",
   "metadata": {},
   "outputs": [
    {
     "data": {
      "text/plain": [
       "['The last of us', 'The simpsons', 'Modern family', 'Spongebob', 'South Park']"
      ]
     },
     "execution_count": 34,
     "metadata": {},
     "output_type": "execute_result"
    }
   ],
   "source": [
    "tv_shows"
   ]
  },
  {
   "cell_type": "code",
   "execution_count": 33,
   "id": "ee4e0cb7",
   "metadata": {},
   "outputs": [
    {
     "data": {
      "text/plain": [
       "['Modern family',\n",
       " 'The last of us',\n",
       " 'The Incredibles',\n",
       " 'The Cat in the Hat',\n",
       " 'Nope',\n",
       " 'Avatar',\n",
       " 'Ant Man 3']"
      ]
     },
     "execution_count": 33,
     "metadata": {},
     "output_type": "execute_result"
    }
   ],
   "source": [
    "movies"
   ]
  },
  {
   "cell_type": "code",
   "execution_count": null,
   "id": "577c7a40",
   "metadata": {},
   "outputs": [],
   "source": []
  }
 ],
 "metadata": {
  "kernelspec": {
   "display_name": "Python 3",
   "language": "python",
   "name": "python3"
  },
  "language_info": {
   "codemirror_mode": {
    "name": "ipython",
    "version": 3
   },
   "file_extension": ".py",
   "mimetype": "text/x-python",
   "name": "python",
   "nbconvert_exporter": "python",
   "pygments_lexer": "ipython3",
   "version": "3.11.0"
  }
 },
 "nbformat": 4,
 "nbformat_minor": 5
}