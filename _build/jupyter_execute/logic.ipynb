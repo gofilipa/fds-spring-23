{
 "cells": [
  {
   "attachments": {},
   "cell_type": "markdown",
   "id": "e3f51298",
   "metadata": {},
   "source": [
    "# Logic"
   ]
  },
  {
   "cell_type": "code",
   "execution_count": 1,
   "id": "16dfea06",
   "metadata": {},
   "outputs": [
    {
     "data": {
      "text/plain": [
       "bool"
      ]
     },
     "execution_count": 1,
     "metadata": {},
     "output_type": "execute_result"
    }
   ],
   "source": [
    "# remember booleans?\n",
    "\n",
    "type(True)"
   ]
  },
  {
   "cell_type": "code",
   "execution_count": 2,
   "id": "02222396",
   "metadata": {},
   "outputs": [
    {
     "data": {
      "text/plain": [
       "bool"
      ]
     },
     "execution_count": 2,
     "metadata": {},
     "output_type": "execute_result"
    }
   ],
   "source": [
    "type(False)"
   ]
  },
  {
   "cell_type": "code",
   "execution_count": 3,
   "id": "cad4dffe",
   "metadata": {},
   "outputs": [
    {
     "data": {
      "text/plain": [
       "True"
      ]
     },
     "execution_count": 3,
     "metadata": {},
     "output_type": "execute_result"
    }
   ],
   "source": [
    "# double equals sign checks for equavalence\n",
    "\n",
    "1 == 1"
   ]
  },
  {
   "cell_type": "code",
   "execution_count": 4,
   "id": "fa2b3c5c",
   "metadata": {},
   "outputs": [
    {
     "data": {
      "text/plain": [
       "False"
      ]
     },
     "execution_count": 4,
     "metadata": {},
     "output_type": "execute_result"
    }
   ],
   "source": [
    "1 == 0 "
   ]
  },
  {
   "cell_type": "code",
   "execution_count": 5,
   "id": "8d69ba14",
   "metadata": {},
   "outputs": [
    {
     "data": {
      "text/plain": [
       "True"
      ]
     },
     "execution_count": 5,
     "metadata": {},
     "output_type": "execute_result"
    }
   ],
   "source": [
    "10 > 5"
   ]
  },
  {
   "cell_type": "code",
   "execution_count": 6,
   "id": "89ab0421",
   "metadata": {},
   "outputs": [],
   "source": [
    "# single equals sign makes an assignment\n",
    "\n",
    "variable = 'my variable'"
   ]
  },
  {
   "cell_type": "code",
   "execution_count": 7,
   "id": "d847e3af",
   "metadata": {},
   "outputs": [
    {
     "data": {
      "text/plain": [
       "False"
      ]
     },
     "execution_count": 7,
     "metadata": {},
     "output_type": "execute_result"
    }
   ],
   "source": [
    "# double equals sign checks for an equivalence\n",
    "\n",
    "variable == 'hello'"
   ]
  },
  {
   "cell_type": "code",
   "execution_count": 8,
   "id": "3101c5b8",
   "metadata": {},
   "outputs": [
    {
     "name": "stdout",
     "output_type": "stream",
     "text": [
      "You can build your credit\n"
     ]
    }
   ],
   "source": [
    "age = 17\n",
    "if age > 24:\n",
    "    print(\"You can rent a car\")\n",
    "elif age > 20: \n",
    "    print(\"You can have a beer\")\n",
    "    print(\"You can also play poker\")\n",
    "elif age > 17:\n",
    "    print(\"You can vote\")\n",
    "elif age > 16:\n",
    "    print(\"You can build your credit\")\n",
    "else:\n",
    "    print(\"You're too young\")"
   ]
  },
  {
   "cell_type": "code",
   "execution_count": 9,
   "id": "ccd49507",
   "metadata": {},
   "outputs": [
    {
     "name": "stdout",
     "output_type": "stream",
     "text": [
      "I don't know what show you're talking about... I'm just a little program\n"
     ]
    }
   ],
   "source": [
    "show = 'the last of us'\n",
    "if show == 'spongebob':\n",
    "    print('you have the wrong show')\n",
    "elif show == 'survivor':\n",
    "    print('you have the correct show')\n",
    "else:\n",
    "    print(\"I don't know what show you're talking about... I'm just a little program\")"
   ]
  },
  {
   "cell_type": "code",
   "execution_count": null,
   "id": "1d5a0d35",
   "metadata": {},
   "outputs": [],
   "source": []
  }
 ],
 "metadata": {
  "kernelspec": {
   "display_name": "base",
   "language": "python",
   "name": "python3"
  },
  "language_info": {
   "codemirror_mode": {
    "name": "ipython",
    "version": 3
   },
   "file_extension": ".py",
   "mimetype": "text/x-python",
   "name": "python",
   "nbconvert_exporter": "python",
   "pygments_lexer": "ipython3",
   "version": "3.7.7"
  },
  "vscode": {
   "interpreter": {
    "hash": "9771d17f0e9c88668ca63fd8ba66bc442b03c5f15be36d6465bfc059c366ddef"
   }
  }
 },
 "nbformat": 4,
 "nbformat_minor": 5
}