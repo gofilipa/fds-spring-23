{
 "cells": [
  {
   "cell_type": "markdown",
   "id": "d2150c1c",
   "metadata": {},
   "source": [
    "# homework 2: python basics "
   ]
  },
  {
   "cell_type": "markdown",
   "id": "cdaddafe",
   "metadata": {},
   "source": [
    "Please download this page by pressing the download button on upper right corner. You should save the page as an `.ipynb` file. \n",
    "\n",
    "Afer downloading the document, open it on your own computer, either on Google Colab or Jupyter-Notebooks. If using Google Colab, you may need to first upload the document to your Google Drive before you can work on it.\n",
    "\n",
    "When you are finished, download the document as an `.ipynb` file and submit it through Blackboard. "
   ]
  },
  {
   "cell_type": "code",
   "execution_count": 1,
   "id": "77fc4bdd",
   "metadata": {},
   "outputs": [],
   "source": [
    "# In the box below, define a function called \"subtract\" that \n",
    "# subtracts one number from another. Make sure you include two \n",
    "# variables in the definition which will take the values of \n",
    "# the input numbers passed into the function. "
   ]
  },
  {
   "cell_type": "code",
   "execution_count": null,
   "id": "e1c247c1",
   "metadata": {},
   "outputs": [],
   "source": []
  },
  {
   "cell_type": "code",
   "execution_count": 2,
   "id": "576ee63e",
   "metadata": {},
   "outputs": [],
   "source": [
    "# Now call the same function, passing two random numbers as \n",
    "# parameters."
   ]
  },
  {
   "cell_type": "code",
   "execution_count": null,
   "id": "9c37b86e",
   "metadata": {},
   "outputs": [],
   "source": []
  },
  {
   "cell_type": "code",
   "execution_count": 3,
   "id": "b0182598",
   "metadata": {},
   "outputs": [],
   "source": [
    "# Give an example of a \"built-in\" function that we have used in \n",
    "# class. Hint: we have used at least two."
   ]
  },
  {
   "cell_type": "code",
   "execution_count": null,
   "id": "8555f745",
   "metadata": {},
   "outputs": [],
   "source": []
  },
  {
   "cell_type": "code",
   "execution_count": 4,
   "id": "1890a3e9",
   "metadata": {},
   "outputs": [],
   "source": [
    "# In a comment below, explain in your own words how a function \n",
    "# works and why it can be useful. 2-4 sentences."
   ]
  },
  {
   "cell_type": "code",
   "execution_count": null,
   "id": "cbb3c742",
   "metadata": {},
   "outputs": [],
   "source": []
  },
  {
   "cell_type": "code",
   "execution_count": 5,
   "id": "9f3948d6",
   "metadata": {},
   "outputs": [],
   "source": [
    "# Write variable named `quote` that stores your favorite quote \n",
    "# of all time in the form of a list."
   ]
  },
  {
   "cell_type": "code",
   "execution_count": null,
   "id": "249084e9",
   "metadata": {},
   "outputs": [],
   "source": []
  },
  {
   "cell_type": "code",
   "execution_count": 6,
   "id": "6ce53717",
   "metadata": {},
   "outputs": [],
   "source": [
    "# Now write a loop that goes prints each word from the quote."
   ]
  },
  {
   "cell_type": "code",
   "execution_count": null,
   "id": "28c717e7",
   "metadata": {},
   "outputs": [],
   "source": []
  },
  {
   "cell_type": "code",
   "execution_count": 7,
   "id": "d8031b4f",
   "metadata": {},
   "outputs": [],
   "source": [
    "# Write a loop that prints the string \"hello\" using all capital \n",
    "# letters."
   ]
  },
  {
   "cell_type": "code",
   "execution_count": null,
   "id": "36efae08",
   "metadata": {},
   "outputs": [],
   "source": []
  },
  {
   "cell_type": "code",
   "execution_count": 8,
   "id": "25bfe47d",
   "metadata": {},
   "outputs": [],
   "source": [
    "# In a comment below, explain in your own words how a loop works \n",
    "# and why it can be useful. 2-4 sentences. "
   ]
  },
  {
   "cell_type": "code",
   "execution_count": null,
   "id": "b8835ac0",
   "metadata": {},
   "outputs": [],
   "source": []
  },
  {
   "cell_type": "code",
   "execution_count": 9,
   "id": "5bebb811",
   "metadata": {},
   "outputs": [],
   "source": [
    "# Take the list that you created above (of your favorite quote)\n",
    "# and write a list index that prints the first word of the quote."
   ]
  },
  {
   "cell_type": "code",
   "execution_count": null,
   "id": "0c97c423",
   "metadata": {},
   "outputs": [],
   "source": []
  },
  {
   "cell_type": "code",
   "execution_count": 10,
   "id": "d2878a04",
   "metadata": {},
   "outputs": [],
   "source": [
    "# Take the same list, and write a list index that prints the a \n",
    "# slice of words from somewhere in the middle of the quote \n",
    "# (somewhere between the first and last words)."
   ]
  },
  {
   "cell_type": "code",
   "execution_count": null,
   "id": "28f625d7",
   "metadata": {},
   "outputs": [],
   "source": []
  },
  {
   "cell_type": "code",
   "execution_count": 11,
   "id": "866bbe52",
   "metadata": {},
   "outputs": [],
   "source": [
    "## BONUS ##\n",
    "# Write a function that loops through a list or string which you \n",
    "# pass from the function call"
   ]
  }
 ],
 "metadata": {
  "kernelspec": {
   "display_name": "Python 3",
   "language": "python",
   "name": "python3"
  },
  "language_info": {
   "codemirror_mode": {
    "name": "ipython",
    "version": 3
   },
   "file_extension": ".py",
   "mimetype": "text/x-python",
   "name": "python",
   "nbconvert_exporter": "python",
   "pygments_lexer": "ipython3",
   "version": "3.7.7"
  },
  "vscode": {
   "interpreter": {
    "hash": "9771d17f0e9c88668ca63fd8ba66bc442b03c5f15be36d6465bfc059c366ddef"
   }
  }
 },
 "nbformat": 4,
 "nbformat_minor": 5
}