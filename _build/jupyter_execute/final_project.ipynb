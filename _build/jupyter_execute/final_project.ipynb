{
 "cells": [
  {
   "attachments": {},
   "cell_type": "markdown",
   "metadata": {},
   "source": [
    "# Final Project"
   ]
  },
  {
   "attachments": {},
   "cell_type": "markdown",
   "metadata": {},
   "source": [
    "## Objective: \n",
    "To explore & analyze how a language model from the\n",
    "*Transformers* libary generates text based on specific prompts. You\n",
    "will have the choice of analyzing discrimination and bias, or\n",
    "analyzing a topic of your choosing. If you choose to do the latter,\n",
    "you must also submit your prompts that you use for inputing to the\n",
    "language model.\n"
   ]
  },
  {
   "attachments": {},
   "cell_type": "markdown",
   "metadata": {},
   "source": [
    "## Instructions:\n",
    "\n",
    "Steps: \n",
    "- First, you will load up a dataset for analysis. You may choose from the following sets of data:\n",
    "   - In the default option, this dataset is \"[toxicity\n",
    "  prompts](https://huggingface.co/datasets/allenai/real-toxicity-prompts),\"\n",
    "  which is a collection of prompts that tend to provoke biased\n",
    "  responses. You will load this dataset using the provided code in the\n",
    "  assignment sheet, which contains an if statement that filters out\n",
    "  the prompts by toxicity score. \n",
    "  - Choose a dataset that has some creativity, like from a novel, game, movie, etc. You might, for example, load up the first sentences from a selection of novels in [Project Gutenberg](https://www.gutenberg.org/). Or you can use quotes from a game. Your choice, as long as it's creative! \n",
    "- Second, trom the dataset, you will compile a list of 10 prompts, using the\n",
    "  provided code in the assignment sheet. Later on, you will draw from\n",
    "  this list to feed prompts into the text generator. You may use the\n",
    "  code provided.\n",
    "- Third, you will create a generator object tied into which you will\n",
    "  pass your prompts. Here, you may use the default language model\n",
    "  (which is 'gpt2', or use one of your choosing from the\n",
    "  [models\n",
    "  hub](https://huggingface.co/models?pipeline_tag=text-generation&sort=downloads)),\n",
    "  with the \"text generation\" option from the \"Natural Language\n",
    "  Processing\" selected on the lefthand menu. If selecting your own\n",
    "  model, modify the code provided by adding a\n",
    "  `model='your-model-name'` argument in the pipeline function. \n",
    "- Fourth, pass your selected prompts into the generator\n",
    "  object, which you created from the pipeline function.\n",
    "- Finally, examine the results and summarize your response. Use the following questions to    prompt your thinking. 5 - 7 sentences. \n",
    "    - Pay attention to anything in the results that sticks out to you. Are there any surprising results? Or any patterns that you can notice across multiple results? What do these surprises or patterns in the results suggest about the training data?   \n",
    "    - Do you find the results to be more biased or offensive than the original prompt? Do\n",
    "    you find them to be more biased or offensive than the \"continuation\" sentences from the original dataset? How so?\n",
    "    - What do the results say about the original training data? What ideas or biases might be prevalent in the original dataset?"
   ]
  },
  {
   "attachments": {},
   "cell_type": "markdown",
   "metadata": {},
   "source": []
  }
 ],
 "metadata": {
  "language_info": {
   "codemirror_mode": {
    "name": "ipython",
    "version": 3
   },
   "file_extension": ".py",
   "mimetype": "text/x-python",
   "name": "python",
   "nbconvert_exporter": "python",
   "pygments_lexer": "ipython3",
   "version": "3.11.0"
  }
 },
 "nbformat": 4,
 "nbformat_minor": 2
}