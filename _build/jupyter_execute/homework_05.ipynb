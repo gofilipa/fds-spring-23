{
 "cells": [
  {
   "attachments": {},
   "cell_type": "markdown",
   "id": "b93f4789",
   "metadata": {},
   "source": [
    "# homework 4: data exploration\n",
    "\n",
    "In this assignment, you will demonstrate your knowledge of the Python and Pandas skills we've learned so far. These include:\n",
    "\n",
    "- Getting an overview of your data\n",
    "- Extracting columns\n",
    "- Getting fundamental statistical information of a series, such as the mean and median\n",
    "- Getting a random sample of your data\n",
    "- Creating a subset of your data using indexing with boolean lists\n",
    "- Sorting your data\n",
    "- Indexing by matching a string\n",
    "\n",
    "You will not need to formulate or answer a research question for this assignment. You simply need to demonstrate your ability to perform specific operations on the data set you have selected. In the next assignment, your midterm, you will create a narrative exploration of the data using many of the same methods, but in such a way as to use narrative along with data analysis to answer a research question.\n",
    "\n",
    "You may use the data set you imported in assignment #1, or you may choose another data set. That means that you can reuse code you wrote in Assignment #1 to import the data.\n",
    "\n",
    "In the below notebook, I will ask for you to perform a task. Each task will be followed by one or more blank code cells. Use as many cells as you need to complete the task. If you know some other way to complete the task with Python and/or Pandas that is not the way we learned in class, that is also acceptable. Feel free to use Google searches to refresh your memory as to how to perform each task. You will also likely wish to consult the class notebooks, which have been emailed to you after class and which can be found in [our class repository on GitHub](https://github.com/smythp/foundations-data-science/tree/master/class_notebooks).\n",
    "\n",
    "If your data set does not have a needed form of data for a task, write code that would perform the task if a column with that data existed, and provide an explanation as a comment or markdown cell.\n",
    "\n",
    "You may receive partial credit for some incomplete or incorrect answers. Please feel free to add comments about your thought process, which will make it more likely that you will receive partial credit.\n",
    "\n",
    "The last cell is a bonus. You will not be penalized for not attempting or completing it.\n",
    "\n",
    "-----"
   ]
  },
  {
   "cell_type": "markdown",
   "id": "2bfcd632",
   "metadata": {},
   "source": [
    "Import Pandas and read your data in as a data frame. Assign the data frame to a variable, such as `df`."
   ]
  },
  {
   "cell_type": "code",
   "execution_count": null,
   "id": "bf198c8b",
   "metadata": {},
   "outputs": [],
   "source": []
  },
  {
   "cell_type": "code",
   "execution_count": null,
   "id": "797c533d",
   "metadata": {},
   "outputs": [],
   "source": []
  },
  {
   "cell_type": "markdown",
   "id": "a24891c9",
   "metadata": {},
   "source": [
    "Make the data frame visible by placing the data frame variable in a cell by itself."
   ]
  },
  {
   "cell_type": "code",
   "execution_count": null,
   "id": "ccd666d6",
   "metadata": {},
   "outputs": [],
   "source": []
  },
  {
   "cell_type": "markdown",
   "id": "2bb0ff5d",
   "metadata": {},
   "source": [
    "What columns are in your data frame? Use a function or method that shows all the columns."
   ]
  },
  {
   "cell_type": "code",
   "execution_count": null,
   "id": "eeaee6f1",
   "metadata": {},
   "outputs": [],
   "source": []
  },
  {
   "cell_type": "markdown",
   "id": "b06c4738",
   "metadata": {},
   "source": [
    "Write Python code to output the number of rows in your data frame."
   ]
  },
  {
   "cell_type": "code",
   "execution_count": null,
   "id": "6323742f",
   "metadata": {},
   "outputs": [],
   "source": []
  },
  {
   "cell_type": "markdown",
   "id": "e8644b85",
   "metadata": {},
   "source": [
    "Write code to output a column from your data frame as a series. (Extract a column.)"
   ]
  },
  {
   "cell_type": "code",
   "execution_count": null,
   "id": "da4ca19e",
   "metadata": {},
   "outputs": [],
   "source": []
  },
  {
   "cell_type": "markdown",
   "id": "4cbd44ef",
   "metadata": {},
   "source": [
    "Pick a column in your data set with numeric data (integers or floats). Output the mean (average) and median of that column."
   ]
  },
  {
   "cell_type": "code",
   "execution_count": null,
   "id": "43f6f42e",
   "metadata": {},
   "outputs": [],
   "source": []
  },
  {
   "cell_type": "code",
   "execution_count": null,
   "id": "d13eca6f",
   "metadata": {},
   "outputs": [],
   "source": []
  },
  {
   "cell_type": "markdown",
   "id": "1a9df537",
   "metadata": {},
   "source": [
    "Use a conditional with a column to create a boolean series. Save the boolean series to a variable."
   ]
  },
  {
   "cell_type": "code",
   "execution_count": null,
   "id": "b4e0a375",
   "metadata": {},
   "outputs": [],
   "source": []
  },
  {
   "cell_type": "markdown",
   "id": "68562c00",
   "metadata": {},
   "source": [
    "Use your boolean series and index your data frame to create a subset of the data. Save the resulting data frame to a variable."
   ]
  },
  {
   "cell_type": "code",
   "execution_count": null,
   "id": "06498731",
   "metadata": {},
   "outputs": [],
   "source": []
  },
  {
   "cell_type": "markdown",
   "id": "8ce688ed",
   "metadata": {},
   "source": [
    "Output the length of the resulting data frame (the subset of your data for which the conditional was true)."
   ]
  },
  {
   "cell_type": "code",
   "execution_count": null,
   "id": "bd2ab816",
   "metadata": {},
   "outputs": [],
   "source": []
  },
  {
   "cell_type": "markdown",
   "id": "4c6d9319",
   "metadata": {},
   "source": [
    "Sort your data frame by a particular column and output the result."
   ]
  },
  {
   "cell_type": "code",
   "execution_count": null,
   "id": "db8819c7",
   "metadata": {},
   "outputs": [],
   "source": []
  },
  {
   "cell_type": "markdown",
   "id": "ad96d460",
   "metadata": {},
   "source": [
    "Output the first ten rows of your data set, the last ten rows of your data set, and a random ten rows of your data set (a sample of your data)."
   ]
  },
  {
   "cell_type": "code",
   "execution_count": null,
   "id": "1bf71cb0",
   "metadata": {},
   "outputs": [],
   "source": []
  },
  {
   "cell_type": "code",
   "execution_count": null,
   "id": "59e6227f",
   "metadata": {},
   "outputs": [],
   "source": []
  },
  {
   "cell_type": "code",
   "execution_count": null,
   "id": "e3585e15",
   "metadata": {},
   "outputs": [],
   "source": []
  },
  {
   "cell_type": "markdown",
   "id": "7e96f519",
   "metadata": {},
   "source": [
    "## Bonus\n",
    "\n",
    "In the remaining cells of this notebook, use your original data frame and create a subset of the data that matches a specific string in a column. That is, extract all rows of the original data frame that contain a specific string in one of the columns.\n"
   ]
  },
  {
   "cell_type": "code",
   "execution_count": null,
   "id": "fab623b1",
   "metadata": {},
   "outputs": [],
   "source": []
  },
  {
   "cell_type": "code",
   "execution_count": null,
   "id": "2797159d",
   "metadata": {},
   "outputs": [],
   "source": []
  },
  {
   "cell_type": "code",
   "execution_count": null,
   "id": "5fcd45c6",
   "metadata": {},
   "outputs": [],
   "source": []
  }
 ],
 "metadata": {
  "kernelspec": {
   "display_name": "base",
   "language": "python",
   "name": "python3"
  },
  "language_info": {
   "codemirror_mode": {
    "name": "ipython",
    "version": 3
   },
   "file_extension": ".py",
   "mimetype": "text/x-python",
   "name": "python",
   "nbconvert_exporter": "python",
   "pygments_lexer": "ipython3",
   "version": "3.7.7"
  },
  "vscode": {
   "interpreter": {
    "hash": "9771d17f0e9c88668ca63fd8ba66bc442b03c5f15be36d6465bfc059c366ddef"
   }
  }
 },
 "nbformat": 4,
 "nbformat_minor": 5
}