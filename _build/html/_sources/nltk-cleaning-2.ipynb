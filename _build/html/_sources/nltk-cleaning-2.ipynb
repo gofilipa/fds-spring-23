{
 "cells": [
  {
   "attachments": {},
   "cell_type": "markdown",
   "id": "2cecc62e",
   "metadata": {},
   "source": [
    "# NLTK: cleaning part 2"
   ]
  },
  {
   "cell_type": "code",
   "execution_count": 6,
   "id": "23cf931d",
   "metadata": {},
   "outputs": [],
   "source": [
    "# On Jupyter - run this cell\n",
    "import nltk\n",
    "from nltk.corpus import stopwords\n",
    "from nltk.stem import WordNetLemmatizer"
   ]
  },
  {
   "cell_type": "code",
   "execution_count": null,
   "id": "3a5b5544",
   "metadata": {},
   "outputs": [],
   "source": [
    "# on Colab -- run this cell\n",
    "import nltk\n",
    "from nltk.corpus import stopwords\n",
    "nltk.download('stopwords')\n",
    "nltk.download('wordnet')\n",
    "nltk.download('omw-1.4')\n",
    "nltk.download('punkt')"
   ]
  },
  {
   "cell_type": "markdown",
   "id": "b40ee707",
   "metadata": {},
   "source": [
    "## nltk personals corpus"
   ]
  },
  {
   "cell_type": "code",
   "execution_count": 2,
   "id": "c9110458",
   "metadata": {},
   "outputs": [
    {
     "name": "stdout",
     "output_type": "stream",
     "text": [
      "*** Introductory Examples for the NLTK Book ***\n",
      "Loading text1, ..., text9 and sent1, ..., sent9\n",
      "Type the name of the text or sentence to view it.\n",
      "Type: 'texts()' or 'sents()' to list the materials.\n",
      "text1: Moby Dick by Herman Melville 1851\n",
      "text2: Sense and Sensibility by Jane Austen 1811\n",
      "text3: The Book of Genesis\n",
      "text4: Inaugural Address Corpus\n",
      "text5: Chat Corpus\n",
      "text6: Monty Python and the Holy Grail\n",
      "text7: Wall Street Journal\n",
      "text8: Personals Corpus\n",
      "text9: The Man Who Was Thursday by G . K . Chesterton 1908\n"
     ]
    }
   ],
   "source": [
    "# import our list of books from the NLTK library\n",
    "\n",
    "from nltk.book import *"
   ]
  },
  {
   "cell_type": "markdown",
   "id": "b799bd6b",
   "metadata": {},
   "source": [
    "## text8: the personals corpus"
   ]
  },
  {
   "cell_type": "code",
   "execution_count": 52,
   "id": "5bc93371",
   "metadata": {},
   "outputs": [
    {
     "data": {
      "text/plain": [
       "['25',\n",
       " 'SEXY',\n",
       " 'MALE',\n",
       " ',',\n",
       " 'seeks',\n",
       " 'attrac',\n",
       " 'older',\n",
       " 'single',\n",
       " 'lady',\n",
       " ',',\n",
       " 'for',\n",
       " 'discreet',\n",
       " 'encounters',\n",
       " '.',\n",
       " '35YO',\n",
       " 'Security',\n",
       " 'Guard',\n",
       " ',',\n",
       " 'seeking',\n",
       " 'lady']"
      ]
     },
     "execution_count": 52,
     "metadata": {},
     "output_type": "execute_result"
    }
   ],
   "source": [
    "# check out text8, the personals ads, first 20 words\n",
    "\n",
    "text8[:20]"
   ]
  },
  {
   "cell_type": "code",
   "execution_count": 53,
   "id": "5e292275",
   "metadata": {},
   "outputs": [
    {
     "data": {
      "text/plain": [
       "4867"
      ]
     },
     "execution_count": 53,
     "metadata": {},
     "output_type": "execute_result"
    }
   ],
   "source": [
    "# how to find the length of the dataset, use len()\n",
    "\n",
    "len(text8)"
   ]
  },
  {
   "cell_type": "code",
   "execution_count": 8,
   "id": "87cfd13d",
   "metadata": {},
   "outputs": [
    {
     "data": {
      "text/plain": [
       "[(',', 539),\n",
       " ('.', 353),\n",
       " ('/', 110),\n",
       " ('for', 99),\n",
       " ('and', 74),\n",
       " ('to', 74),\n",
       " ('lady', 68),\n",
       " ('-', 66),\n",
       " ('seeks', 60),\n",
       " ('a', 52),\n",
       " ('with', 44),\n",
       " ('S', 36),\n",
       " ('ship', 33),\n",
       " ('&', 30),\n",
       " ('relationship', 29),\n",
       " ('fun', 28),\n",
       " ('in', 27),\n",
       " ('slim', 27),\n",
       " ('build', 27),\n",
       " ('o', 26)]"
      ]
     },
     "execution_count": 8,
     "metadata": {},
     "output_type": "execute_result"
    }
   ],
   "source": [
    "# check the most frequent words, using nltk method \"Frequency \n",
    "# Distribution\", that measures word frequencies\n",
    "\n",
    "# first import the FreqDist class\n",
    "from nltk import FreqDist\n",
    "\n",
    "# then check the most common 15 words\n",
    "FreqDist(text8).most_common(20)"
   ]
  },
  {
   "cell_type": "code",
   "execution_count": 9,
   "id": "ad43acb0",
   "metadata": {},
   "outputs": [],
   "source": [
    "# notice that the text is not cleaned, since it's counting\n",
    "# punctuation and stopwords. \n",
    "# We need to write a loop that remove stopwords and punctuation \n",
    "\n",
    "stops = stopwords.words('english')\n",
    "\n",
    "personals_clean = [] # creating an empty list, to put new words in\n",
    "\n",
    "for word in text8: # picking out each word in text8\n",
    "    if word.isalpha(): # checking if that word is in the alphabet\n",
    "        if word not in stops: # checking if that word is in stops\n",
    "             personals_clean.append(word.lower()) # adding to our list"
   ]
  },
  {
   "cell_type": "code",
   "execution_count": 10,
   "id": "8e535c66",
   "metadata": {},
   "outputs": [
    {
     "data": {
      "text/plain": [
       "['sexy',\n",
       " 'male',\n",
       " 'seeks',\n",
       " 'attrac',\n",
       " 'older',\n",
       " 'single',\n",
       " 'lady',\n",
       " 'discreet',\n",
       " 'encounters',\n",
       " 'security',\n",
       " 'guard',\n",
       " 'seeking',\n",
       " 'lady',\n",
       " 'uniform',\n",
       " 'fun',\n",
       " 'times',\n",
       " 'yo',\n",
       " 'single',\n",
       " 'dad',\n",
       " 'sincere']"
      ]
     },
     "execution_count": 10,
     "metadata": {},
     "output_type": "execute_result"
    }
   ],
   "source": [
    "# check the first 20 words -- we have a cleaner dataset now\n",
    "\n",
    "personals_clean[:20]"
   ]
  },
  {
   "cell_type": "code",
   "execution_count": 11,
   "id": "87061664",
   "metadata": {},
   "outputs": [
    {
     "data": {
      "text/plain": [
       "[('lady', 88),\n",
       " ('seeks', 72),\n",
       " ('male', 42),\n",
       " ('s', 36),\n",
       " ('looking', 34),\n",
       " ('ship', 33),\n",
       " ('slim', 33),\n",
       " ('fun', 31),\n",
       " ('attractive', 29),\n",
       " ('relationship', 29),\n",
       " ('build', 27),\n",
       " ('good', 26),\n",
       " ('seeking', 25),\n",
       " ('non', 25),\n",
       " ('smoker', 23),\n",
       " ('n', 23),\n",
       " ('guy', 22),\n",
       " ('honest', 22),\n",
       " ('i', 22),\n",
       " ('movies', 22)]"
      ]
     },
     "execution_count": 11,
     "metadata": {},
     "output_type": "execute_result"
    }
   ],
   "source": [
    "# create a frequency distribution, the results are much better \n",
    "# than before\n",
    "\n",
    "FreqDist(personals_clean).most_common(20)"
   ]
  },
  {
   "cell_type": "code",
   "execution_count": 12,
   "id": "cc88f951",
   "metadata": {},
   "outputs": [
    {
     "data": {
      "text/plain": [
       "list"
      ]
     },
     "execution_count": 12,
     "metadata": {},
     "output_type": "execute_result"
    }
   ],
   "source": [
    "# right now, our data is in a list\n",
    "\n",
    "type(personals_clean)"
   ]
  },
  {
   "cell_type": "code",
   "execution_count": 13,
   "id": "0ae285d7",
   "metadata": {},
   "outputs": [],
   "source": [
    "# let's try some nltk methods that we know, like dispersion_plot(), \n",
    "# similar(), concordance()\n",
    "\n",
    "# In order to use those methods, we first create an NLTK object\n",
    "# for our text\n",
    "\n",
    "personals = nltk.Text(personals_clean)"
   ]
  },
  {
   "cell_type": "code",
   "execution_count": 14,
   "id": "2ca7b9f6",
   "metadata": {},
   "outputs": [
    {
     "data": {
      "text/plain": [
       "nltk.text.Text"
      ]
     },
     "execution_count": 14,
     "metadata": {},
     "output_type": "execute_result"
    }
   ],
   "source": [
    "# now we have an nltk.text.Text type of object, which is good\n",
    "\n",
    "type(personals)"
   ]
  },
  {
   "cell_type": "code",
   "execution_count": 15,
   "id": "425e47b0",
   "metadata": {},
   "outputs": [
    {
     "name": "stdout",
     "output_type": "stream",
     "text": [
      "seeks fem female looking women someone woman short\n"
     ]
    }
   ],
   "source": [
    "# check similar words for our top word in the FreqDist, 'lady'\n",
    "\n",
    "personals.similar('lady')"
   ]
  },
  {
   "cell_type": "code",
   "execution_count": 60,
   "id": "9dc53e39",
   "metadata": {},
   "outputs": [
    {
     "name": "stdout",
     "output_type": "stream",
     "text": [
      "Displaying 25 of 88 matches:\n",
      "sexy male seeks attrac older single lady discreet encounters security guard s\n",
      "et encounters security guard seeking lady uniform fun times yo single dad sinc\n",
      "en s e tall seeks working single mum lady fship rship nat open yr old outgoing\n",
      "en phone fun ready play affectionate lady sought generous guy mutual fulfillme\n",
      "afes beach c seeks honest attractive lady european background without children\n",
      "lly secure children seeks attractive lady children i enjoy beach sports music \n",
      "s walks beach single would like meet lady friendship view relationship austral\n",
      "er with son living seeks nice caring lady likes children permanent lationship \n",
      "al person life looking caring honest lady friendship relationship businessman \n",
      "relationship businessman ish looking lady non smoker taller business outlook t\n",
      "h modern outlook cuddly full figured lady plus sought australian gent early fi\n",
      "g camping music love kids am looking lady similar interests aged friendship po\n",
      "ependant standing mid looking classy lady wants retain privacy still retain in\n",
      "inker fit active seeking slim medium lady friendship relationship limestone co\n",
      "et attractive non smoking fun loving lady friendship view permanent relationsh\n",
      "s dining etc outgoing guy late seeks lady size unimportant fun good times reti\n",
      "od times retired gent like meet slim lady long term caravan travel heading dar\n",
      "quiet nights seeks employed year old lady relationship clare barossa region no\n",
      " financially secure seeks australian lady genuine relationship single mum welc\n",
      "t long term relationship slim petite lady age years yo guy slim seeks yo femal\n",
      " tall guy would like meet attractive lady long term relationship central victo\n",
      "e dad teen daughters looking special lady fit healthy self emp tradesman ns se\n",
      "tradesman ns seeks indian sri lankan lady ns olive dark complexion f dship pos\n",
      "ker looking fship rship asian indian lady years romantic sexy country guy ns s\n",
      "sexy country guy ns seeks similar ns lady fun friendship well dressed emotiona\n"
     ]
    }
   ],
   "source": [
    "# create a concordance for 'lady'\n",
    "\n",
    "personals.concordance('lady')"
   ]
  },
  {
   "cell_type": "code",
   "execution_count": 61,
   "id": "36a13d4a",
   "metadata": {},
   "outputs": [
    {
     "data": {
      "image/png": "[encoded data removed]",
      "text/plain": [
       "<Figure size 432x288 with 1 Axes>"
      ]
     },
     "metadata": {
      "needs_background": "light"
     },
     "output_type": "display_data"
    }
   ],
   "source": [
    "# dispersion_plot() checks where certain words appear\n",
    "\n",
    "personals.dispersion_plot(['lady', 'male', 'fun'])"
   ]
  },
  {
   "cell_type": "code",
   "execution_count": 62,
   "id": "1a891eb2",
   "metadata": {},
   "outputs": [
    {
     "name": "stdout",
     "output_type": "stream",
     "text": [
      "non smoker; would like; like meet; age open; social drinker; medium\n",
      "build; quiet nights; long term; sense humour; med build; easy going;\n",
      "nights home; poss rship; smoker social; financially secure; fship\n",
      "poss; fun times; weekends away; single dad; similar interests\n"
     ]
    }
   ],
   "source": [
    "# collocations() checks words that frequently go together\n",
    "\n",
    "personals.collocations()"
   ]
  },
  {
   "cell_type": "code",
   "execution_count": 63,
   "id": "04e46970",
   "metadata": {},
   "outputs": [
    {
     "name": "stdout",
     "output_type": "stream",
     "text": [
      "looking_non asian_sought seeks_age seeks_casual married_discreet\n",
      "seeks_r single_discreet seeking_uniform mum_fship affectionate_sought\n",
      "attractive_european attractive_children meet_friendship caring_likes\n",
      "honest_friendship figured_plus looking_similar classy_wants\n",
      "medium_friendship loving_friendship\n"
     ]
    }
   ],
   "source": [
    "# common_contexts([]) checks the immediate words (context) surrounding\n",
    "# our target word\n",
    "\n",
    "personals.common_contexts(['lady'])"
   ]
  },
  {
   "cell_type": "markdown",
   "id": "fe8ba32f",
   "metadata": {},
   "source": [
    "## patterns and research questions"
   ]
  },
  {
   "cell_type": "markdown",
   "id": "f7dfacbf",
   "metadata": {},
   "source": [
    "What patterns do you see emerging from your exploration? Use methods like: similar(), concordance(), collocations(), dispersion_plot(), common_contexts()\n",
    "\n",
    "Results:\n",
    "- adjectives like 'slim', 'fun' are more common than 'classy'\n",
    "- seems like it's more men seeking out women, 'common_contexts'"
   ]
  },
  {
   "cell_type": "markdown",
   "id": "1dd9c02a",
   "metadata": {},
   "source": [
    "## text5: the chat corpus"
   ]
  },
  {
   "cell_type": "code",
   "execution_count": null,
   "id": "a82f9f2a",
   "metadata": {},
   "outputs": [],
   "source": [
    "# we are going to check out text5, the chat corpus"
   ]
  },
  {
   "cell_type": "code",
   "execution_count": 18,
   "id": "8dfe7074",
   "metadata": {},
   "outputs": [
    {
     "data": {
      "text/plain": [
       "['now', 'im', 'left', 'with', 'this', 'gay', 'name', ':P', 'PART', 'hey']"
      ]
     },
     "execution_count": 18,
     "metadata": {},
     "output_type": "execute_result"
    }
   ],
   "source": [
    "# creating a slice to take a peek at the data\n",
    "\n",
    "text5[:10]"
   ]
  },
  {
   "cell_type": "code",
   "execution_count": 19,
   "id": "60c917dd",
   "metadata": {},
   "outputs": [
    {
     "data": {
      "text/plain": [
       "['out',\n",
       " 'U34',\n",
       " '?',\n",
       " 'lol',\n",
       " 'hi',\n",
       " 'U3',\n",
       " 'JOIN',\n",
       " 'Hi',\n",
       " ',',\n",
       " 'U197',\n",
       " '.',\n",
       " 'Not',\n",
       " 'that',\n",
       " 'I',\n",
       " 'know',\n",
       " 'of',\n",
       " ',',\n",
       " 'U98',\n",
       " 'Uh',\n",
       " '.']"
      ]
     },
     "execution_count": 19,
     "metadata": {},
     "output_type": "execute_result"
    }
   ],
   "source": [
    "# checking the end of the data\n",
    "\n",
    "text5[-20:]"
   ]
  },
  {
   "cell_type": "code",
   "execution_count": 20,
   "id": "36e2d376",
   "metadata": {},
   "outputs": [
    {
     "data": {
      "text/plain": [
       "[('.', 1268),\n",
       " ('JOIN', 1021),\n",
       " ('PART', 1016),\n",
       " ('?', 737),\n",
       " ('lol', 704),\n",
       " ('to', 658),\n",
       " ('i', 648),\n",
       " ('the', 646),\n",
       " ('you', 635),\n",
       " (',', 596),\n",
       " ('I', 576),\n",
       " ('a', 568),\n",
       " ('hi', 546),\n",
       " ('me', 415),\n",
       " ('...', 412),\n",
       " ('is', 372),\n",
       " ('..', 361),\n",
       " ('in', 357),\n",
       " ('ACTION', 346),\n",
       " ('!', 342)]"
      ]
     },
     "execution_count": 20,
     "metadata": {},
     "output_type": "execute_result"
    }
   ],
   "source": [
    "# making a Frequency Distribution to see most common words\n",
    "\n",
    "FreqDist(text5).most_common(20)"
   ]
  },
  {
   "cell_type": "code",
   "execution_count": null,
   "id": "b17b9d6b",
   "metadata": {},
   "outputs": [],
   "source": [
    "# it seems like there's a lot of stopwords and punctuation here, which we\n",
    "# want to clean"
   ]
  },
  {
   "cell_type": "code",
   "execution_count": 40,
   "id": "56e097b3",
   "metadata": {},
   "outputs": [],
   "source": [
    "# function for cleaning the text\n",
    "\n",
    "def clean(text):\n",
    "    stops = stopwords.words('english') # creating a list of stopwords\n",
    "    clean = [] # creating an empty list, to put new words in\n",
    "\n",
    "    for word in text: # picking out each word in text5\n",
    "        if word.isalpha(): # checking if in alphabet\n",
    "            if word not in stops: # checking if stopword\n",
    "                clean.append(word.lower()) # adding to list\n",
    "    return clean"
   ]
  },
  {
   "cell_type": "code",
   "execution_count": 43,
   "id": "9364005f",
   "metadata": {},
   "outputs": [],
   "source": [
    "# calling the function\n",
    "\n",
    "cleaned = clean(text5)"
   ]
  },
  {
   "cell_type": "code",
   "execution_count": 45,
   "id": "d7d072b6",
   "metadata": {},
   "outputs": [
    {
     "data": {
      "text/plain": [
       "['im', 'left', 'gay', 'name', 'part', 'hey', 'everyone', 'ah', 'well', 'nick']"
      ]
     },
     "execution_count": 45,
     "metadata": {},
     "output_type": "execute_result"
    }
   ],
   "source": [
    "# we can see that the stopwords, punctuation, and uppercase letters have been removed\n",
    "\n",
    "cleaned[:10]"
   ]
  },
  {
   "cell_type": "code",
   "execution_count": 47,
   "id": "b0aeb19f",
   "metadata": {},
   "outputs": [
    {
     "data": {
      "text/plain": [
       "['hi',\n",
       " 'join',\n",
       " 'fine',\n",
       " 'gurls',\n",
       " 'hurr',\n",
       " 'pm',\n",
       " 'find',\n",
       " 'hi',\n",
       " 'were',\n",
       " 'one',\n",
       " 'nicks',\n",
       " 'kicked',\n",
       " 'lol',\n",
       " 'hi',\n",
       " 'join',\n",
       " 'hi',\n",
       " 'not',\n",
       " 'i',\n",
       " 'know',\n",
       " 'uh']"
      ]
     },
     "execution_count": 47,
     "metadata": {},
     "output_type": "execute_result"
    }
   ],
   "source": [
    "cleaned[-20:]"
   ]
  },
  {
   "cell_type": "code",
   "execution_count": 48,
   "id": "beafde3c",
   "metadata": {},
   "outputs": [
    {
     "data": {
      "text/plain": [
       "[('part', 1022),\n",
       " ('join', 1021),\n",
       " ('lol', 822),\n",
       " ('hi', 656),\n",
       " ('i', 576),\n",
       " ('action', 347),\n",
       " ('hey', 292),\n",
       " ('u', 204),\n",
       " ('like', 160),\n",
       " ('im', 149),\n",
       " ('pm', 149),\n",
       " ('chat', 146),\n",
       " ('good', 132),\n",
       " ('lmao', 128),\n",
       " ('wanna', 110),\n",
       " ('ok', 106),\n",
       " ('know', 104),\n",
       " ('get', 104),\n",
       " ('room', 103),\n",
       " ('ya', 100)]"
      ]
     },
     "execution_count": 48,
     "metadata": {},
     "output_type": "execute_result"
    }
   ],
   "source": [
    "# now our frequency distribution is more informative\n",
    "# though it's still not a very rich dataset\n",
    "\n",
    "FreqDist(cleaned).most_common(20)"
   ]
  },
  {
   "cell_type": "code",
   "execution_count": 51,
   "id": "583aabdc",
   "metadata": {},
   "outputs": [
    {
     "name": "stdout",
     "output_type": "stream",
     "text": [
      "part join hi lol hey i yeah everyone haha wb right well still ok yes\n",
      "room hahaha oh ppl hello\n"
     ]
    }
   ],
   "source": [
    "text.similar('lmao')"
   ]
  },
  {
   "cell_type": "code",
   "execution_count": 52,
   "id": "4d488529",
   "metadata": {},
   "outputs": [
    {
     "name": "stdout",
     "output_type": "stream",
     "text": [
      "Displaying 25 of 128 matches:\n",
      "right hi fucking hot thought hi late lmao ahah iamahotniplickme part hi ny act\n",
      "wow twice i impressed part hiya room lmao im doin alright thanks omg finger de\n",
      "ioned honey depends hi ca babies yep lmao action laughs part fiance know handl\n",
      "es me love join lol u know jerkettes lmao co well girls didnts say anithing wr\n",
      "g wrong see eyes lol fiance jerketts lmao wtf yah i know honey join girl jerk \n",
      "n ug shit il get u cheap flight hell lmao bbl maybe part lol lol hahah got ass\n",
      "ee lmfao join action goes wash hands lmao i innocent lies lmao check record lo\n",
      "goes wash hands lmao i innocent lies lmao check record lol lick em old r u lol\n",
      "d r u lol way lie mmhmm polite calls lmao u yo may om action lix ummm lol lol \n",
      " going bed want hot sexy dreams bite lmao darling guy action wishes someone wo\n",
      "art hahah hey funny way chase people lmao part watch ty hey part bored guys wa\n",
      "art hey put untouchable list im good lmao r u hehe hows bout u good hear knows\n",
      "orror scopes lol nice horrified hehe lmao even join well going talk later byb \n",
      "i take advice lol client suffer join lmao i always days late i finish meeting \n",
      "d hi hey good ques always lol strong lmao strait lol join shakin way i like oh\n",
      "ing dumb asses wont chat ya ok guess lmao go figure finally someone figured wo\n",
      " i thinking orgy around lol orgy lol lmao wow one word people easy lol lol fun\n",
      "ol funny part join getting back orgy lmao whats bye part lets play naked twist\n",
      " pissed sure lol hello oopps i meant lmao hey anyone pm room ya gotta watch ma\n",
      " everyone yes hey oh meant lover lol lmao go figure think yeah cuz many lmao g\n",
      "l lmao go figure think yeah cuz many lmao gotta try seriously meant lol sexy i\n",
      "lol keep around gotta stick sometime lmao lol party hair like knockin door i b\n",
      "door i bet prob party hair seriously lmao join thanks sexy bonus point life lo\n",
      "part right join part perked ya right lmao steel ok say cant creative enough co\n",
      " come better line ya horny stay away lmao ummm yeah sheepishly dang didnt even\n"
     ]
    }
   ],
   "source": [
    "text.concordance('lmao')"
   ]
  },
  {
   "cell_type": "markdown",
   "id": "a95ab8f6",
   "metadata": {},
   "source": [
    "## Group challenge\n",
    "Choose one text from the nltk.book list. Use `from nltk.book import *` to call up the list.\n",
    "Then, using NLTK methods we know, like similar(), concordance(), distribution_plot([]), do some analysis on these lists. \n",
    "\n",
    "What patterns do you see emerging from your exploration? Be ready to share with the class."
   ]
  },
  {
   "cell_type": "code",
   "execution_count": 59,
   "id": "5730c226",
   "metadata": {},
   "outputs": [
    {
     "data": {
      "text/plain": [
       "<Text: Sense and Sensibility by Jane Austen 1811>"
      ]
     },
     "execution_count": 59,
     "metadata": {},
     "output_type": "execute_result"
    }
   ],
   "source": [
    "text2"
   ]
  },
  {
   "cell_type": "code",
   "execution_count": 60,
   "id": "67e28f32",
   "metadata": {},
   "outputs": [
    {
     "name": "stdout",
     "output_type": "stream",
     "text": [
      "sister that side as opinion mother means time marianne wish want part\n",
      "sweetness resolution and family property manner life but\n"
     ]
    }
   ],
   "source": [
    "# one of the words in the title is associated with a character, 'Marianne'\n",
    "\n",
    "text2.similar('sense')"
   ]
  },
  {
   "cell_type": "code",
   "execution_count": 61,
   "id": "2a77b428",
   "metadata": {},
   "outputs": [
    {
     "name": "stdout",
     "output_type": "stream",
     "text": [
      "this it time conduct mind company family man her house heart him\n",
      "mother that way living year income disposition marianne\n"
     ]
    }
   ],
   "source": [
    "text2.similar('sensibility')"
   ]
  },
  {
   "cell_type": "code",
   "execution_count": null,
   "id": "20c34fc0",
   "metadata": {},
   "outputs": [],
   "source": []
  }
 ],
 "metadata": {
  "kernelspec": {
   "display_name": "Python 3",
   "language": "python",
   "name": "python3"
  },
  "language_info": {
   "codemirror_mode": {
    "name": "ipython",
    "version": 3
   },
   "file_extension": ".py",
   "mimetype": "text/x-python",
   "name": "python",
   "nbconvert_exporter": "python",
   "pygments_lexer": "ipython3",
   "version": "3.7.7"
  }
 },
 "nbformat": 4,
 "nbformat_minor": 5
}
